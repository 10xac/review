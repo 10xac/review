{
 "cells": [
  {
   "cell_type": "code",
   "execution_count": 1,
   "metadata": {},
   "outputs": [],
   "source": [
    "%load_ext autoreload\n",
    "%autoreload 2"
   ]
  },
  {
   "cell_type": "code",
   "execution_count": 2,
   "metadata": {},
   "outputs": [
    {
     "name": "stdout",
     "output_type": "stream",
     "text": [
      "/Users/mahlettaye/review/review_scripts\n",
      "/Users/mahlettaye/review/review_scripts\n",
      "/Users/mahlettaye/review/review_scripts\n"
     ]
    }
   ],
   "source": [
    "import os, sys\n",
    "\n",
    "\n",
    "path='../'\n",
    "if not path in sys.path:\n",
    "    sys.path.append(path)\n",
    "    \n",
    "from review_scripts import insert_users_for_special_challenge\n"
   ]
  },
  {
   "cell_type": "code",
   "execution_count": 18,
   "metadata": {},
   "outputs": [
    {
     "name": "stdout",
     "output_type": "stream",
     "text": [
      "reading auth from file: /Users/mahlettaye/review/.env/cms.json ..\n",
      "reading auth from file: /Users/mahlettaye/review/.env/cms.json ..\n"
     ]
    }
   ],
   "source": [
    "iur =  insert_users_for_special_challenge.InsertUserSpecial_challenge(root=\"cms\",\n",
    " ssmkey=\"staging/strapi/token\", batch=3, role=\"trainee\")"
   ]
  },
  {
   "attachments": {},
   "cell_type": "markdown",
   "metadata": {},
   "source": [
    "### Insert User"
   ]
  },
  {
   "cell_type": "code",
   "execution_count": 19,
   "metadata": {},
   "outputs": [
    {
     "name": "stdout",
     "output_type": "stream",
     "text": [
      "reading auth from file: ~/.env/gclass_credentials.json ..\n",
      "****** using service account: ~/.env/gclass_credentials.json\n",
      "service account is being used without delegation..\n"
     ]
    }
   ],
   "source": [
    "df = iur.get_accepted_trainee (sid = \"1c82RJ9jn_ltOXd31QIy_ajohuJs5W88QXTOREVAmIHw\")"
   ]
  },
  {
   "cell_type": "code",
   "execution_count": 20,
   "metadata": {},
   "outputs": [],
   "source": [
    "df['name'] = df['name'].replace({'Rahel W. Abreham':'Rahel Abreham', 'Sharleen Mwikali Muoki':'Sharleen Mwikal','Samuel Negash Hailu':'Samuel Negash'})"
   ]
  },
  {
   "cell_type": "code",
   "execution_count": 21,
   "metadata": {},
   "outputs": [],
   "source": [
    "to_exclude = ['brianodhiambo530@gmail.com','rahelweldegebriel2120@gmail.com','smlnegash@gmail.com',\n",
    "'alaroabubakarolayemi@gmail.com','s.mwikali.muoki@gmail.com','lotomej12@gmail.com','natananshiferaw@gmail.com']"
   ]
  },
  {
   "cell_type": "code",
   "execution_count": 22,
   "metadata": {},
   "outputs": [],
   "source": [
    "ddf= df[~df['email'].isin(to_exclude)]"
   ]
  },
  {
   "cell_type": "code",
   "execution_count": 23,
   "metadata": {},
   "outputs": [
    {
     "data": {
      "text/html": [
       "<div>\n",
       "<style scoped>\n",
       "    .dataframe tbody tr th:only-of-type {\n",
       "        vertical-align: middle;\n",
       "    }\n",
       "\n",
       "    .dataframe tbody tr th {\n",
       "        vertical-align: top;\n",
       "    }\n",
       "\n",
       "    .dataframe thead th {\n",
       "        text-align: right;\n",
       "    }\n",
       "</style>\n",
       "<table border=\"1\" class=\"dataframe\">\n",
       "  <thead>\n",
       "    <tr style=\"text-align: right;\">\n",
       "      <th></th>\n",
       "      <th>Timestamp</th>\n",
       "      <th>email</th>\n",
       "      <th>name</th>\n",
       "      <th>batch_string</th>\n",
       "      <th>interested</th>\n",
       "      <th>availability</th>\n",
       "      <th>Batch</th>\n",
       "      <th>role</th>\n",
       "    </tr>\n",
       "  </thead>\n",
       "  <tbody>\n",
       "    <tr>\n",
       "      <th>31</th>\n",
       "      <td>23/01/2023 14:15:37</td>\n",
       "      <td>bessymukaria@gmail.com</td>\n",
       "      <td>Bessy Mukaria</td>\n",
       "      <td>Batch 3</td>\n",
       "      <td>Both 1 &amp; 2</td>\n",
       "      <td>I can allocate some time</td>\n",
       "      <td>3</td>\n",
       "      <td>trainee</td>\n",
       "    </tr>\n",
       "    <tr>\n",
       "      <th>33</th>\n",
       "      <td>30/01/2023 17:20:22</td>\n",
       "      <td>nabeelseid@gmail.com</td>\n",
       "      <td>Nabil Seid Yassin</td>\n",
       "      <td>Batch 3</td>\n",
       "      <td>Both 1 &amp; 2</td>\n",
       "      <td>I can allocate some time</td>\n",
       "      <td>3</td>\n",
       "      <td>trainee</td>\n",
       "    </tr>\n",
       "  </tbody>\n",
       "</table>\n",
       "</div>"
      ],
      "text/plain": [
       "              Timestamp                   email               name  \\\n",
       "31  23/01/2023 14:15:37  bessymukaria@gmail.com      Bessy Mukaria   \n",
       "33  30/01/2023 17:20:22    nabeelseid@gmail.com  Nabil Seid Yassin   \n",
       "\n",
       "   batch_string  interested              availability  Batch     role  \n",
       "31      Batch 3  Both 1 & 2  I can allocate some time      3  trainee  \n",
       "33      Batch 3  Both 1 & 2  I can allocate some time      3  trainee  "
      ]
     },
     "execution_count": 23,
     "metadata": {},
     "output_type": "execute_result"
    }
   ],
   "source": [
    "ddf"
   ]
  },
  {
   "cell_type": "code",
   "execution_count": 24,
   "metadata": {},
   "outputs": [
    {
     "name": "stdout",
     "output_type": "stream",
     "text": [
      "bessymukaria@gmail.com Bessy Mukaria\n",
      "{'data': {'register': {'user': {'id': '426', 'username': 'Bessy Mukaria', 'email': 'bessymukaria@gmail.com'}}}}\n",
      "nabeelseid@gmail.com Nabil Seid Yassin\n",
      "{'data': {'register': {'user': {'id': '427', 'username': 'Nabil Seid Yassin', 'email': 'nabeelseid@gmail.com'}}}}\n"
     ]
    }
   ],
   "source": [
    "all_ids, allemail = iur.insert_user(df=ddf)"
   ]
  },
  {
   "cell_type": "code",
   "execution_count": 26,
   "metadata": {},
   "outputs": [
    {
     "data": {
      "text/plain": [
       "['426', '427']"
      ]
     },
     "execution_count": 26,
     "metadata": {},
     "output_type": "execute_result"
    }
   ],
   "source": [
    "all_ids"
   ]
  },
  {
   "cell_type": "code",
   "execution_count": 27,
   "metadata": {},
   "outputs": [
    {
     "name": "stderr",
     "output_type": "stream",
     "text": [
      "/var/folders/dp/57y4rbx55kxdswwsnmzgp_j40000gn/T/ipykernel_10207/3486713206.py:1: SettingWithCopyWarning: \n",
      "A value is trying to be set on a copy of a slice from a DataFrame.\n",
      "Try using .loc[row_indexer,col_indexer] = value instead\n",
      "\n",
      "See the caveats in the documentation: https://pandas.pydata.org/pandas-docs/stable/user_guide/indexing.html#returning-a-view-versus-a-copy\n",
      "  ddf['user']=all_ids\n",
      "/var/folders/dp/57y4rbx55kxdswwsnmzgp_j40000gn/T/ipykernel_10207/3486713206.py:2: SettingWithCopyWarning: \n",
      "A value is trying to be set on a copy of a slice from a DataFrame.\n",
      "Try using .loc[row_indexer,col_indexer] = value instead\n",
      "\n",
      "See the caveats in the documentation: https://pandas.pydata.org/pandas-docs/stable/user_guide/indexing.html#returning-a-view-versus-a-copy\n",
      "  ddf['uemail']=allemail\n"
     ]
    }
   ],
   "source": [
    "ddf['user']=all_ids\n",
    "ddf['uemail']=allemail"
   ]
  },
  {
   "cell_type": "code",
   "execution_count": 28,
   "metadata": {},
   "outputs": [
    {
     "data": {
      "text/html": [
       "<div>\n",
       "<style scoped>\n",
       "    .dataframe tbody tr th:only-of-type {\n",
       "        vertical-align: middle;\n",
       "    }\n",
       "\n",
       "    .dataframe tbody tr th {\n",
       "        vertical-align: top;\n",
       "    }\n",
       "\n",
       "    .dataframe thead th {\n",
       "        text-align: right;\n",
       "    }\n",
       "</style>\n",
       "<table border=\"1\" class=\"dataframe\">\n",
       "  <thead>\n",
       "    <tr style=\"text-align: right;\">\n",
       "      <th></th>\n",
       "      <th>Timestamp</th>\n",
       "      <th>email</th>\n",
       "      <th>name</th>\n",
       "      <th>batch_string</th>\n",
       "      <th>interested</th>\n",
       "      <th>availability</th>\n",
       "      <th>Batch</th>\n",
       "      <th>role</th>\n",
       "      <th>user</th>\n",
       "      <th>uemail</th>\n",
       "    </tr>\n",
       "  </thead>\n",
       "  <tbody>\n",
       "    <tr>\n",
       "      <th>31</th>\n",
       "      <td>23/01/2023 14:15:37</td>\n",
       "      <td>bessymukaria@gmail.com</td>\n",
       "      <td>Bessy Mukaria</td>\n",
       "      <td>Batch 3</td>\n",
       "      <td>Both 1 &amp; 2</td>\n",
       "      <td>I can allocate some time</td>\n",
       "      <td>3</td>\n",
       "      <td>trainee</td>\n",
       "      <td>426</td>\n",
       "      <td>bessymukaria@gmail.com</td>\n",
       "    </tr>\n",
       "    <tr>\n",
       "      <th>33</th>\n",
       "      <td>30/01/2023 17:20:22</td>\n",
       "      <td>nabeelseid@gmail.com</td>\n",
       "      <td>Nabil Seid Yassin</td>\n",
       "      <td>Batch 3</td>\n",
       "      <td>Both 1 &amp; 2</td>\n",
       "      <td>I can allocate some time</td>\n",
       "      <td>3</td>\n",
       "      <td>trainee</td>\n",
       "      <td>427</td>\n",
       "      <td>nabeelseid@gmail.com</td>\n",
       "    </tr>\n",
       "  </tbody>\n",
       "</table>\n",
       "</div>"
      ],
      "text/plain": [
       "              Timestamp                   email               name  \\\n",
       "31  23/01/2023 14:15:37  bessymukaria@gmail.com      Bessy Mukaria   \n",
       "33  30/01/2023 17:20:22    nabeelseid@gmail.com  Nabil Seid Yassin   \n",
       "\n",
       "   batch_string  interested              availability  Batch     role user  \\\n",
       "31      Batch 3  Both 1 & 2  I can allocate some time      3  trainee  426   \n",
       "33      Batch 3  Both 1 & 2  I can allocate some time      3  trainee  427   \n",
       "\n",
       "                    uemail  \n",
       "31  bessymukaria@gmail.com  \n",
       "33    nabeelseid@gmail.com  "
      ]
     },
     "execution_count": 28,
     "metadata": {},
     "output_type": "execute_result"
    }
   ],
   "source": [
    "ddf"
   ]
  },
  {
   "cell_type": "code",
   "execution_count": null,
   "metadata": {},
   "outputs": [],
   "source": []
  },
  {
   "cell_type": "code",
   "execution_count": 32,
   "metadata": {},
   "outputs": [
    {
     "name": "stdout",
     "output_type": "stream",
     "text": [
      "/Users/mahlettaye/review/review_scripts\n",
      "{'data': {'id': 1907, 'attributes': {'name': 'Bessy Mukaria', 'email': 'bessymukaria@gmail.com', 'role': 'trainee', 'createdAt': '2023-02-01T09:21:28.009Z', 'updatedAt': '2023-02-01T09:21:28.009Z', 'image_link': None, 'Batch': 3}}, 'meta': {}}\n",
      "{'data': {'id': 1908, 'attributes': {'name': 'Nabil Seid Yassin', 'email': 'nabeelseid@gmail.com', 'role': 'trainee', 'createdAt': '2023-02-01T09:21:28.492Z', 'updatedAt': '2023-02-01T09:21:28.492Z', 'image_link': None, 'Batch': 3}}, 'meta': {}}\n",
      "All records are inserted\n"
     ]
    }
   ],
   "source": [
    "iur.insert_all_users(ddf)"
   ]
  },
  {
   "cell_type": "code",
   "execution_count": 41,
   "metadata": {},
   "outputs": [
    {
     "name": "stdout",
     "output_type": "stream",
     "text": [
      "/Users/mahlettaye/review/review_scripts\n",
      "Index(['all_user', 'Email', 'batches'], dtype='object')\n",
      "{'all_user': '1907', 'Email': 'bessymukaria@gmail.com', 'batches': 3}\n",
      "{'data': {'id': 162, 'attributes': {'createdAt': '2023-02-01T09:31:25.895Z', 'updatedAt': '2023-02-01T09:31:25.895Z', 'Email': 'bessymukaria@gmail.com'}}, 'meta': {}}\n",
      "{'all_user': '1908', 'Email': 'nabeelseid@gmail.com', 'batches': 3}\n",
      "{'data': {'id': 163, 'attributes': {'createdAt': '2023-02-01T09:31:41.150Z', 'updatedAt': '2023-02-01T09:31:41.150Z', 'Email': 'nabeelseid@gmail.com'}}, 'meta': {}}\n",
      "All records are inserted\n"
     ]
    }
   ],
   "source": [
    "iur.insert_reviewers()"
   ]
  },
  {
   "cell_type": "code",
   "execution_count": 39,
   "metadata": {},
   "outputs": [
    {
     "name": "stdout",
     "output_type": "stream",
     "text": [
      "/Users/mahlettaye/review/review_scripts\n",
      "{'data': {'id': 8, 'attributes': {'Name': 'B3', 'createdAt': '2023-01-23T13:35:24.616Z', 'updatedAt': '2023-01-23T13:35:24.616Z'}}, 'meta': {}}\n"
     ]
    }
   ],
   "source": [
    "iur.insert_group()"
   ]
  }
 ],
 "metadata": {
  "kernelspec": {
   "display_name": "pjmatch",
   "language": "python",
   "name": "python3"
  },
  "language_info": {
   "codemirror_mode": {
    "name": "ipython",
    "version": 3
   },
   "file_extension": ".py",
   "mimetype": "text/x-python",
   "name": "python",
   "nbconvert_exporter": "python",
   "pygments_lexer": "ipython3",
   "version": "3.9.15"
  },
  "orig_nbformat": 4,
  "vscode": {
   "interpreter": {
    "hash": "366dab72018b3fdb221843b047f27bd0add7ca741825c738abe034e80706e9b2"
   }
  }
 },
 "nbformat": 4,
 "nbformat_minor": 2
}
