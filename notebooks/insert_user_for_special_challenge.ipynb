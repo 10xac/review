{
 "cells": [
  {
   "cell_type": "code",
   "execution_count": 1,
   "metadata": {},
   "outputs": [],
   "source": [
    "%load_ext autoreload\n",
    "%autoreload 2"
   ]
  },
  {
   "cell_type": "code",
   "execution_count": 2,
   "metadata": {},
   "outputs": [
    {
     "name": "stdout",
     "output_type": "stream",
     "text": [
      "/Users/mahlettaye/review/review_scripts\n",
      "/Users/mahlettaye/review/review_scripts\n",
      "/Users/mahlettaye/review/review_scripts\n"
     ]
    }
   ],
   "source": [
    "import os, sys\n",
    "\n",
    "\n",
    "path='../'\n",
    "if not path in sys.path:\n",
    "    sys.path.append(path)\n",
    "    \n",
    "from review_scripts import insert_users_for_special_challenge\n"
   ]
  },
  {
   "cell_type": "code",
   "execution_count": 9,
   "metadata": {},
   "outputs": [
    {
     "name": "stdout",
     "output_type": "stream",
     "text": [
      "/Users/mahlettaye/review/review_scripts\n",
      "reading auth from file: /Users/mahlettaye/review/.env/dev-cms.json ..\n",
      "reading auth from file: /Users/mahlettaye/review/.env/dev-cms.json ..\n"
     ]
    }
   ],
   "source": [
    "iur =  insert_users_for_special_challenge.InsertUserSpecial_challenge(root=\"dev-cms\",\n",
    " ssmkey=\"staging/strapi/token\", batch=3, role=\"trainee\")"
   ]
  },
  {
   "attachments": {},
   "cell_type": "markdown",
   "metadata": {},
   "source": [
    "### Insert User"
   ]
  },
  {
   "cell_type": "code",
   "execution_count": 20,
   "metadata": {},
   "outputs": [
    {
     "name": "stdout",
     "output_type": "stream",
     "text": [
      "/Users/mahlettaye/review/review_scripts\n",
      "reading auth from file: ~/.env/gclass_credentials.json ..\n",
      "****** using service account: ~/.env/gclass_credentials.json\n",
      "service account is being used without delegation..\n"
     ]
    }
   ],
   "source": [
    "df = iur.get_accepted_trainee (sid = \"1c82RJ9jn_ltOXd31QIy_ajohuJs5W88QXTOREVAmIHw\")"
   ]
  },
  {
   "cell_type": "code",
   "execution_count": 21,
   "metadata": {},
   "outputs": [],
   "source": [
    "df['name'] = df['name'].replace({'Rahel W. Abreham':'Rahel Abreham', 'Sharleen Mwikali Muoki':'Sharleen Mwikal','Samuel Negash Hailu':'Samuel Negash'})"
   ]
  },
  {
   "cell_type": "code",
   "execution_count": 22,
   "metadata": {},
   "outputs": [
    {
     "data": {
      "text/html": [
       "<div>\n",
       "<style scoped>\n",
       "    .dataframe tbody tr th:only-of-type {\n",
       "        vertical-align: middle;\n",
       "    }\n",
       "\n",
       "    .dataframe tbody tr th {\n",
       "        vertical-align: top;\n",
       "    }\n",
       "\n",
       "    .dataframe thead th {\n",
       "        text-align: right;\n",
       "    }\n",
       "</style>\n",
       "<table border=\"1\" class=\"dataframe\">\n",
       "  <thead>\n",
       "    <tr style=\"text-align: right;\">\n",
       "      <th></th>\n",
       "      <th>Timestamp</th>\n",
       "      <th>email</th>\n",
       "      <th>name</th>\n",
       "      <th>batch_string</th>\n",
       "      <th>interested</th>\n",
       "      <th>availability</th>\n",
       "      <th>Batch</th>\n",
       "      <th>role</th>\n",
       "    </tr>\n",
       "  </thead>\n",
       "  <tbody>\n",
       "    <tr>\n",
       "      <th>2</th>\n",
       "      <td>18/01/2023 14:20:47</td>\n",
       "      <td>brianodhiambo530@gmail.com</td>\n",
       "      <td>Brian Odhiambo</td>\n",
       "      <td>Batch 3</td>\n",
       "      <td>Both 1 &amp; 2</td>\n",
       "      <td>I can allocate some time</td>\n",
       "      <td>3</td>\n",
       "      <td>trainee</td>\n",
       "    </tr>\n",
       "    <tr>\n",
       "      <th>3</th>\n",
       "      <td>18/01/2023 14:24:23</td>\n",
       "      <td>rahelweldegebriel2120@gmail.com</td>\n",
       "      <td>Rahel Abreham</td>\n",
       "      <td>Batch 3</td>\n",
       "      <td>Both 1 &amp; 2</td>\n",
       "      <td>Partially Available</td>\n",
       "      <td>3</td>\n",
       "      <td>trainee</td>\n",
       "    </tr>\n",
       "    <tr>\n",
       "      <th>6</th>\n",
       "      <td>18/01/2023 14:47:15</td>\n",
       "      <td>smlnegash@gmail.com</td>\n",
       "      <td>Samuel Negash</td>\n",
       "      <td>Batch 3</td>\n",
       "      <td>Both 1 &amp; 2</td>\n",
       "      <td>Partially Available</td>\n",
       "      <td>3</td>\n",
       "      <td>trainee</td>\n",
       "    </tr>\n",
       "    <tr>\n",
       "      <th>11</th>\n",
       "      <td>18/01/2023 17:42:10</td>\n",
       "      <td>alaroabubakarolayemi@gmail.com</td>\n",
       "      <td>Abubakar Alaro</td>\n",
       "      <td>Batch 3</td>\n",
       "      <td>Both 1 &amp; 2</td>\n",
       "      <td>I can allocate some time</td>\n",
       "      <td>3</td>\n",
       "      <td>trainee</td>\n",
       "    </tr>\n",
       "    <tr>\n",
       "      <th>14</th>\n",
       "      <td>19/01/2023 10:18:43</td>\n",
       "      <td>s.mwikali.muoki@gmail.com</td>\n",
       "      <td>Sharleen Mwikal</td>\n",
       "      <td>Batch 3</td>\n",
       "      <td>Both 1 &amp; 2</td>\n",
       "      <td>I can allocate some time</td>\n",
       "      <td>3</td>\n",
       "      <td>trainee</td>\n",
       "    </tr>\n",
       "    <tr>\n",
       "      <th>15</th>\n",
       "      <td>19/01/2023 13:53:15</td>\n",
       "      <td>lotomej12@gmail.com</td>\n",
       "      <td>John Erika</td>\n",
       "      <td>Batch 3</td>\n",
       "      <td>Both 1 &amp; 2</td>\n",
       "      <td>I can allocate some time</td>\n",
       "      <td>3</td>\n",
       "      <td>trainee</td>\n",
       "    </tr>\n",
       "    <tr>\n",
       "      <th>22</th>\n",
       "      <td>20/01/2023 13:08:21</td>\n",
       "      <td>natananshiferaw@gmail.com</td>\n",
       "      <td>Natanan Shiferaw</td>\n",
       "      <td>Batch 3</td>\n",
       "      <td>Algorand 2 - Smart Contract</td>\n",
       "      <td>I can allocate some time</td>\n",
       "      <td>3</td>\n",
       "      <td>trainee</td>\n",
       "    </tr>\n",
       "    <tr>\n",
       "      <th>31</th>\n",
       "      <td>23/01/2023 14:15:37</td>\n",
       "      <td>bessymukaria@gmail.com</td>\n",
       "      <td>Bessy Mukaria</td>\n",
       "      <td>Batch 3</td>\n",
       "      <td>Both 1 &amp; 2</td>\n",
       "      <td>I can allocate some time</td>\n",
       "      <td>3</td>\n",
       "      <td>trainee</td>\n",
       "    </tr>\n",
       "  </tbody>\n",
       "</table>\n",
       "</div>"
      ],
      "text/plain": [
       "              Timestamp                            email              name  \\\n",
       "2   18/01/2023 14:20:47       brianodhiambo530@gmail.com    Brian Odhiambo   \n",
       "3   18/01/2023 14:24:23  rahelweldegebriel2120@gmail.com     Rahel Abreham   \n",
       "6   18/01/2023 14:47:15              smlnegash@gmail.com     Samuel Negash   \n",
       "11  18/01/2023 17:42:10   alaroabubakarolayemi@gmail.com   Abubakar Alaro    \n",
       "14  19/01/2023 10:18:43        s.mwikali.muoki@gmail.com   Sharleen Mwikal   \n",
       "15  19/01/2023 13:53:15              lotomej12@gmail.com        John Erika   \n",
       "22  20/01/2023 13:08:21        natananshiferaw@gmail.com  Natanan Shiferaw   \n",
       "31  23/01/2023 14:15:37           bessymukaria@gmail.com     Bessy Mukaria   \n",
       "\n",
       "   batch_string                   interested              availability  Batch  \\\n",
       "2       Batch 3                   Both 1 & 2  I can allocate some time      3   \n",
       "3       Batch 3                   Both 1 & 2       Partially Available      3   \n",
       "6       Batch 3                   Both 1 & 2       Partially Available      3   \n",
       "11      Batch 3                   Both 1 & 2  I can allocate some time      3   \n",
       "14      Batch 3                   Both 1 & 2  I can allocate some time      3   \n",
       "15      Batch 3                   Both 1 & 2  I can allocate some time      3   \n",
       "22      Batch 3  Algorand 2 - Smart Contract  I can allocate some time      3   \n",
       "31      Batch 3                   Both 1 & 2  I can allocate some time      3   \n",
       "\n",
       "       role  \n",
       "2   trainee  \n",
       "3   trainee  \n",
       "6   trainee  \n",
       "11  trainee  \n",
       "14  trainee  \n",
       "15  trainee  \n",
       "22  trainee  \n",
       "31  trainee  "
      ]
     },
     "execution_count": 22,
     "metadata": {},
     "output_type": "execute_result"
    }
   ],
   "source": [
    "df"
   ]
  },
  {
   "cell_type": "code",
   "execution_count": 24,
   "metadata": {},
   "outputs": [
    {
     "name": "stdout",
     "output_type": "stream",
     "text": [
      "/Users/mahlettaye/review/review_scripts\n",
      "brianodhiambo530@gmail.com Brian Odhiambo\n",
      "{'data': {'register': {'user': {'id': '419', 'username': 'Brian Odhiambo', 'email': 'brianodhiambo530@gmail.com'}}}}\n",
      "rahelweldegebriel2120@gmail.com Rahel Abreham\n",
      "{'data': {'register': {'user': {'id': '420', 'username': 'Rahel Abreham', 'email': 'rahelweldegebriel2120@gmail.com'}}}}\n",
      "smlnegash@gmail.com Samuel Negash\n",
      "{'data': {'register': {'user': {'id': '421', 'username': 'Samuel Negash', 'email': 'smlnegash@gmail.com'}}}}\n",
      "alaroabubakarolayemi@gmail.com Abubakar Alaro \n",
      "{'data': {'register': {'user': {'id': '422', 'username': 'Abubakar Alaro ', 'email': 'alaroabubakarolayemi@gmail.com'}}}}\n",
      "s.mwikali.muoki@gmail.com Sharleen Mwikal\n",
      "{'data': {'register': {'user': {'id': '423', 'username': 'Sharleen Mwikal', 'email': 's.mwikali.muoki@gmail.com'}}}}\n",
      "lotomej12@gmail.com John Erika\n",
      "{'data': {'register': {'user': {'id': '424', 'username': 'John Erika', 'email': 'lotomej12@gmail.com'}}}}\n",
      "natananshiferaw@gmail.com Natanan Shiferaw\n",
      "{'data': {'register': {'user': {'id': '425', 'username': 'Natanan Shiferaw', 'email': 'natananshiferaw@gmail.com'}}}}\n",
      "bessymukaria@gmail.com Bessy Mukaria\n",
      "{'data': {'register': {'user': {'id': '426', 'username': 'Bessy Mukaria', 'email': 'bessymukaria@gmail.com'}}}}\n"
     ]
    }
   ],
   "source": [
    "all_ids, allemail = iur.insert_user(df=df)"
   ]
  },
  {
   "cell_type": "code",
   "execution_count": 27,
   "metadata": {},
   "outputs": [],
   "source": [
    "df['user']=all_ids\n",
    "df['uemail']=allemail"
   ]
  },
  {
   "cell_type": "code",
   "execution_count": 28,
   "metadata": {},
   "outputs": [
    {
     "data": {
      "text/html": [
       "<div>\n",
       "<style scoped>\n",
       "    .dataframe tbody tr th:only-of-type {\n",
       "        vertical-align: middle;\n",
       "    }\n",
       "\n",
       "    .dataframe tbody tr th {\n",
       "        vertical-align: top;\n",
       "    }\n",
       "\n",
       "    .dataframe thead th {\n",
       "        text-align: right;\n",
       "    }\n",
       "</style>\n",
       "<table border=\"1\" class=\"dataframe\">\n",
       "  <thead>\n",
       "    <tr style=\"text-align: right;\">\n",
       "      <th></th>\n",
       "      <th>Timestamp</th>\n",
       "      <th>email</th>\n",
       "      <th>name</th>\n",
       "      <th>batch_string</th>\n",
       "      <th>interested</th>\n",
       "      <th>availability</th>\n",
       "      <th>Batch</th>\n",
       "      <th>role</th>\n",
       "      <th>user</th>\n",
       "      <th>uemail</th>\n",
       "    </tr>\n",
       "  </thead>\n",
       "  <tbody>\n",
       "    <tr>\n",
       "      <th>2</th>\n",
       "      <td>18/01/2023 14:20:47</td>\n",
       "      <td>brianodhiambo530@gmail.com</td>\n",
       "      <td>Brian Odhiambo</td>\n",
       "      <td>Batch 3</td>\n",
       "      <td>Both 1 &amp; 2</td>\n",
       "      <td>I can allocate some time</td>\n",
       "      <td>3</td>\n",
       "      <td>trainee</td>\n",
       "      <td>419</td>\n",
       "      <td>brianodhiambo530@gmail.com</td>\n",
       "    </tr>\n",
       "    <tr>\n",
       "      <th>3</th>\n",
       "      <td>18/01/2023 14:24:23</td>\n",
       "      <td>rahelweldegebriel2120@gmail.com</td>\n",
       "      <td>Rahel Abreham</td>\n",
       "      <td>Batch 3</td>\n",
       "      <td>Both 1 &amp; 2</td>\n",
       "      <td>Partially Available</td>\n",
       "      <td>3</td>\n",
       "      <td>trainee</td>\n",
       "      <td>420</td>\n",
       "      <td>rahelweldegebriel2120@gmail.com</td>\n",
       "    </tr>\n",
       "    <tr>\n",
       "      <th>6</th>\n",
       "      <td>18/01/2023 14:47:15</td>\n",
       "      <td>smlnegash@gmail.com</td>\n",
       "      <td>Samuel Negash</td>\n",
       "      <td>Batch 3</td>\n",
       "      <td>Both 1 &amp; 2</td>\n",
       "      <td>Partially Available</td>\n",
       "      <td>3</td>\n",
       "      <td>trainee</td>\n",
       "      <td>421</td>\n",
       "      <td>smlnegash@gmail.com</td>\n",
       "    </tr>\n",
       "    <tr>\n",
       "      <th>11</th>\n",
       "      <td>18/01/2023 17:42:10</td>\n",
       "      <td>alaroabubakarolayemi@gmail.com</td>\n",
       "      <td>Abubakar Alaro</td>\n",
       "      <td>Batch 3</td>\n",
       "      <td>Both 1 &amp; 2</td>\n",
       "      <td>I can allocate some time</td>\n",
       "      <td>3</td>\n",
       "      <td>trainee</td>\n",
       "      <td>422</td>\n",
       "      <td>alaroabubakarolayemi@gmail.com</td>\n",
       "    </tr>\n",
       "    <tr>\n",
       "      <th>14</th>\n",
       "      <td>19/01/2023 10:18:43</td>\n",
       "      <td>s.mwikali.muoki@gmail.com</td>\n",
       "      <td>Sharleen Mwikal</td>\n",
       "      <td>Batch 3</td>\n",
       "      <td>Both 1 &amp; 2</td>\n",
       "      <td>I can allocate some time</td>\n",
       "      <td>3</td>\n",
       "      <td>trainee</td>\n",
       "      <td>423</td>\n",
       "      <td>s.mwikali.muoki@gmail.com</td>\n",
       "    </tr>\n",
       "    <tr>\n",
       "      <th>15</th>\n",
       "      <td>19/01/2023 13:53:15</td>\n",
       "      <td>lotomej12@gmail.com</td>\n",
       "      <td>John Erika</td>\n",
       "      <td>Batch 3</td>\n",
       "      <td>Both 1 &amp; 2</td>\n",
       "      <td>I can allocate some time</td>\n",
       "      <td>3</td>\n",
       "      <td>trainee</td>\n",
       "      <td>424</td>\n",
       "      <td>lotomej12@gmail.com</td>\n",
       "    </tr>\n",
       "    <tr>\n",
       "      <th>22</th>\n",
       "      <td>20/01/2023 13:08:21</td>\n",
       "      <td>natananshiferaw@gmail.com</td>\n",
       "      <td>Natanan Shiferaw</td>\n",
       "      <td>Batch 3</td>\n",
       "      <td>Algorand 2 - Smart Contract</td>\n",
       "      <td>I can allocate some time</td>\n",
       "      <td>3</td>\n",
       "      <td>trainee</td>\n",
       "      <td>425</td>\n",
       "      <td>natananshiferaw@gmail.com</td>\n",
       "    </tr>\n",
       "    <tr>\n",
       "      <th>31</th>\n",
       "      <td>23/01/2023 14:15:37</td>\n",
       "      <td>bessymukaria@gmail.com</td>\n",
       "      <td>Bessy Mukaria</td>\n",
       "      <td>Batch 3</td>\n",
       "      <td>Both 1 &amp; 2</td>\n",
       "      <td>I can allocate some time</td>\n",
       "      <td>3</td>\n",
       "      <td>trainee</td>\n",
       "      <td>426</td>\n",
       "      <td>bessymukaria@gmail.com</td>\n",
       "    </tr>\n",
       "  </tbody>\n",
       "</table>\n",
       "</div>"
      ],
      "text/plain": [
       "              Timestamp                            email              name  \\\n",
       "2   18/01/2023 14:20:47       brianodhiambo530@gmail.com    Brian Odhiambo   \n",
       "3   18/01/2023 14:24:23  rahelweldegebriel2120@gmail.com     Rahel Abreham   \n",
       "6   18/01/2023 14:47:15              smlnegash@gmail.com     Samuel Negash   \n",
       "11  18/01/2023 17:42:10   alaroabubakarolayemi@gmail.com   Abubakar Alaro    \n",
       "14  19/01/2023 10:18:43        s.mwikali.muoki@gmail.com   Sharleen Mwikal   \n",
       "15  19/01/2023 13:53:15              lotomej12@gmail.com        John Erika   \n",
       "22  20/01/2023 13:08:21        natananshiferaw@gmail.com  Natanan Shiferaw   \n",
       "31  23/01/2023 14:15:37           bessymukaria@gmail.com     Bessy Mukaria   \n",
       "\n",
       "   batch_string                   interested              availability  Batch  \\\n",
       "2       Batch 3                   Both 1 & 2  I can allocate some time      3   \n",
       "3       Batch 3                   Both 1 & 2       Partially Available      3   \n",
       "6       Batch 3                   Both 1 & 2       Partially Available      3   \n",
       "11      Batch 3                   Both 1 & 2  I can allocate some time      3   \n",
       "14      Batch 3                   Both 1 & 2  I can allocate some time      3   \n",
       "15      Batch 3                   Both 1 & 2  I can allocate some time      3   \n",
       "22      Batch 3  Algorand 2 - Smart Contract  I can allocate some time      3   \n",
       "31      Batch 3                   Both 1 & 2  I can allocate some time      3   \n",
       "\n",
       "       role user                           uemail  \n",
       "2   trainee  419       brianodhiambo530@gmail.com  \n",
       "3   trainee  420  rahelweldegebriel2120@gmail.com  \n",
       "6   trainee  421              smlnegash@gmail.com  \n",
       "11  trainee  422   alaroabubakarolayemi@gmail.com  \n",
       "14  trainee  423        s.mwikali.muoki@gmail.com  \n",
       "15  trainee  424              lotomej12@gmail.com  \n",
       "22  trainee  425        natananshiferaw@gmail.com  \n",
       "31  trainee  426           bessymukaria@gmail.com  "
      ]
     },
     "execution_count": 28,
     "metadata": {},
     "output_type": "execute_result"
    }
   ],
   "source": [
    "df"
   ]
  },
  {
   "cell_type": "code",
   "execution_count": 30,
   "metadata": {},
   "outputs": [
    {
     "name": "stdout",
     "output_type": "stream",
     "text": [
      "/Users/mahlettaye/review/review_scripts\n",
      "{'data': {'id': 1901, 'attributes': {'name': 'Brian Odhiambo', 'email': 'brianodhiambo530@gmail.com', 'role': 'trainee', 'createdAt': '2023-01-23T13:25:16.977Z', 'updatedAt': '2023-01-23T13:25:16.977Z', 'image_link': None, 'Batch': 3}}, 'meta': {}}\n",
      "{'data': {'id': 1902, 'attributes': {'name': 'Rahel Abreham', 'email': 'rahelweldegebriel2120@gmail.com', 'role': 'trainee', 'createdAt': '2023-01-23T13:25:17.548Z', 'updatedAt': '2023-01-23T13:25:17.548Z', 'image_link': None, 'Batch': 3}}, 'meta': {}}\n",
      "{'data': {'id': 1903, 'attributes': {'name': 'Samuel Negash', 'email': 'smlnegash@gmail.com', 'role': 'trainee', 'createdAt': '2023-01-23T13:25:18.135Z', 'updatedAt': '2023-01-23T13:25:18.135Z', 'image_link': None, 'Batch': 3}}, 'meta': {}}\n",
      "{'data': {'id': 1904, 'attributes': {'name': 'Abubakar Alaro ', 'email': 'alaroabubakarolayemi@gmail.com', 'role': 'trainee', 'createdAt': '2023-01-23T13:25:18.747Z', 'updatedAt': '2023-01-23T13:25:18.747Z', 'image_link': None, 'Batch': 3}}, 'meta': {}}\n",
      "{'data': {'id': 1905, 'attributes': {'name': 'Sharleen Mwikal', 'email': 's.mwikali.muoki@gmail.com', 'role': 'trainee', 'createdAt': '2023-01-23T13:25:19.296Z', 'updatedAt': '2023-01-23T13:25:19.296Z', 'image_link': None, 'Batch': 3}}, 'meta': {}}\n",
      "{'data': {'id': 1906, 'attributes': {'name': 'John Erika', 'email': 'lotomej12@gmail.com', 'role': 'trainee', 'createdAt': '2023-01-23T13:25:19.783Z', 'updatedAt': '2023-01-23T13:25:19.783Z', 'image_link': None, 'Batch': 3}}, 'meta': {}}\n",
      "{'data': {'id': 1907, 'attributes': {'name': 'Natanan Shiferaw', 'email': 'natananshiferaw@gmail.com', 'role': 'trainee', 'createdAt': '2023-01-23T13:25:20.296Z', 'updatedAt': '2023-01-23T13:25:20.296Z', 'image_link': None, 'Batch': 3}}, 'meta': {}}\n",
      "{'data': {'id': 1908, 'attributes': {'name': 'Bessy Mukaria', 'email': 'bessymukaria@gmail.com', 'role': 'trainee', 'createdAt': '2023-01-23T13:25:20.797Z', 'updatedAt': '2023-01-23T13:25:20.797Z', 'image_link': None, 'Batch': 3}}, 'meta': {}}\n",
      "All records are inserted\n"
     ]
    }
   ],
   "source": [
    "iur.insert_all_users(df)"
   ]
  },
  {
   "cell_type": "code",
   "execution_count": 35,
   "metadata": {},
   "outputs": [
    {
     "name": "stdout",
     "output_type": "stream",
     "text": [
      "/Users/mahlettaye/review/review_scripts\n",
      "{'all_user': '1899', 'Email': 'smslmuluwork@gmail.com', 'batches': 3}\n",
      "{'data': None, 'error': {'status': 400, 'name': 'ValidationError', 'message': 'This attribute must be unique', 'details': {'errors': [{'path': ['Email'], 'message': 'This attribute must be unique', 'name': 'ValidationError'}]}}}\n",
      "{'all_user': '1900', 'Email': 'haddyadnan@gmail.com', 'batches': 3}\n",
      "{'data': None, 'error': {'status': 400, 'name': 'ValidationError', 'message': 'This attribute must be unique', 'details': {'errors': [{'path': ['Email'], 'message': 'This attribute must be unique', 'name': 'ValidationError'}]}}}\n",
      "{'all_user': '1901', 'Email': 'brianodhiambo530@gmail.com', 'batches': 3}\n",
      "{'data': {'id': 156, 'attributes': {'createdAt': '2023-01-23T13:30:03.511Z', 'updatedAt': '2023-01-23T13:30:03.511Z', 'Email': 'brianodhiambo530@gmail.com'}}, 'meta': {}}\n",
      "{'all_user': '1902', 'Email': 'rahelweldegebriel2120@gmail.com', 'batches': 3}\n",
      "{'data': {'id': 157, 'attributes': {'createdAt': '2023-01-23T13:30:04.103Z', 'updatedAt': '2023-01-23T13:30:04.103Z', 'Email': 'rahelweldegebriel2120@gmail.com'}}, 'meta': {}}\n",
      "{'all_user': '1903', 'Email': 'smlnegash@gmail.com', 'batches': 3}\n",
      "{'data': {'id': 158, 'attributes': {'createdAt': '2023-01-23T13:30:04.603Z', 'updatedAt': '2023-01-23T13:30:04.603Z', 'Email': 'smlnegash@gmail.com'}}, 'meta': {}}\n",
      "{'all_user': '1904', 'Email': 'alaroabubakarolayemi@gmail.com', 'batches': 3}\n",
      "{'data': {'id': 159, 'attributes': {'createdAt': '2023-01-23T13:30:05.137Z', 'updatedAt': '2023-01-23T13:30:05.137Z', 'Email': 'alaroabubakarolayemi@gmail.com'}}, 'meta': {}}\n",
      "{'all_user': '1905', 'Email': 's.mwikali.muoki@gmail.com', 'batches': 3}\n",
      "{'data': {'id': 160, 'attributes': {'createdAt': '2023-01-23T13:30:05.631Z', 'updatedAt': '2023-01-23T13:30:05.631Z', 'Email': 's.mwikali.muoki@gmail.com'}}, 'meta': {}}\n",
      "{'all_user': '1906', 'Email': 'lotomej12@gmail.com', 'batches': 3}\n",
      "{'data': {'id': 161, 'attributes': {'createdAt': '2023-01-23T13:30:06.133Z', 'updatedAt': '2023-01-23T13:30:06.133Z', 'Email': 'lotomej12@gmail.com'}}, 'meta': {}}\n",
      "{'all_user': '1907', 'Email': 'natananshiferaw@gmail.com', 'batches': 3}\n",
      "{'data': {'id': 162, 'attributes': {'createdAt': '2023-01-23T13:30:06.659Z', 'updatedAt': '2023-01-23T13:30:06.659Z', 'Email': 'natananshiferaw@gmail.com'}}, 'meta': {}}\n",
      "{'all_user': '1908', 'Email': 'bessymukaria@gmail.com', 'batches': 3}\n",
      "{'data': {'id': 163, 'attributes': {'createdAt': '2023-01-23T13:30:07.220Z', 'updatedAt': '2023-01-23T13:30:07.220Z', 'Email': 'bessymukaria@gmail.com'}}, 'meta': {}}\n",
      "All records are inserted\n"
     ]
    }
   ],
   "source": [
    "iur.insert_reviewers()"
   ]
  },
  {
   "cell_type": "code",
   "execution_count": 39,
   "metadata": {},
   "outputs": [
    {
     "name": "stdout",
     "output_type": "stream",
     "text": [
      "/Users/mahlettaye/review/review_scripts\n",
      "{'data': {'id': 8, 'attributes': {'Name': 'B3', 'createdAt': '2023-01-23T13:35:24.616Z', 'updatedAt': '2023-01-23T13:35:24.616Z'}}, 'meta': {}}\n"
     ]
    }
   ],
   "source": [
    "iur.insert_group()"
   ]
  }
 ],
 "metadata": {
  "kernelspec": {
   "display_name": "pjmatch",
   "language": "python",
   "name": "python3"
  },
  "language_info": {
   "codemirror_mode": {
    "name": "ipython",
    "version": 3
   },
   "file_extension": ".py",
   "mimetype": "text/x-python",
   "name": "python",
   "nbconvert_exporter": "python",
   "pygments_lexer": "ipython3",
   "version": "3.9.15"
  },
  "orig_nbformat": 4,
  "vscode": {
   "interpreter": {
    "hash": "366dab72018b3fdb221843b047f27bd0add7ca741825c738abe034e80706e9b2"
   }
  }
 },
 "nbformat": 4,
 "nbformat_minor": 2
}
