{
 "cells": [
  {
   "cell_type": "code",
   "execution_count": 1,
   "metadata": {},
   "outputs": [],
   "source": [
    "%load_ext autoreload\n",
    "%autoreload 2"
   ]
  },
  {
   "cell_type": "code",
   "execution_count": 2,
   "metadata": {},
   "outputs": [
    {
     "name": "stdout",
     "output_type": "stream",
     "text": [
      "/Users/mahlettaye/review\n"
     ]
    }
   ],
   "source": [
    "import os, sys\n",
    "cpath = os.path.abspath('../')\n",
    "print(cpath)\n",
    "if cpath not in sys.path:\n",
    "    sys.path.insert(0, cpath)\n",
    "os.environ[\"STRAPI_STAGE\"] = \"u2jcms\""
   ]
  },
  {
   "attachments": {},
   "cell_type": "markdown",
   "metadata": {},
   "source": [
    "### For new trainees  batch like u2j \n",
    "- Create user and allUesr for Trainee\n",
    "- Create profile Information \n",
    "- Create group \n",
    "- create Trainee"
   ]
  },
  {
   "cell_type": "code",
   "execution_count": 3,
   "metadata": {},
   "outputs": [
    {
     "name": "stdout",
     "output_type": "stream",
     "text": [
      "/Users/mahlettaye/review\n",
      "/Users/mahlettaye/review\n",
      "config.py:get_openapi_token:26: get_auth(ssmkey=OPENAI_API_KEY, envvar=openai_apikey, fconfig=.env/openai_apikey.json)\n",
      "Getting tenx/env/vars from existing file /var/folders/dp/57y4rbx55kxdswwsnmzgp_j40000gn/T/tenx_env_vars.json..\n",
      "using STRAPI_STAGE=u2jcms\n",
      "/Users/mahlettaye/review\n"
     ]
    }
   ],
   "source": [
    "from review_scripts.trainee_information_processor import TraineeInformationProcesssor\n",
    "from review_scripts.strapi_methods import StrapiMethods \n",
    "from review_scripts.strapi_graphql import StrapiGraphql\n",
    "from review_scripts.communication_manager import CommunicationManager\n",
    "### Load params \n",
    "from run_configs import u2j_trainee_config"
   ]
  },
  {
   "cell_type": "code",
   "execution_count": 4,
   "metadata": {},
   "outputs": [
    {
     "name": "stdout",
     "output_type": "stream",
     "text": [
      "StrapiGraphql run_stage: u2jcms\n",
      "strapi_graphql.py:__init__:35: get_auth(ssmkey=U2J_PROD_STRAPI_TOKEN, envvar=STRAPI_TOKEN, fconfig=/var/folders/dp/57y4rbx55kxdswwsnmzgp_j40000gn/T/u2jcms.json)\n",
      "Getting tenx/env/vars from existing file /var/folders/dp/57y4rbx55kxdswwsnmzgp_j40000gn/T/tenx_env_vars.json..\n",
      "strapi_methods.py:__init__:30: get_auth(ssmkey=U2J_PROD_STRAPI_TOKEN, envvar=STRAPI_TOKEN, fconfig=/var/folders/dp/57y4rbx55kxdswwsnmzgp_j40000gn/T/u2jcms.json)\n",
      "Getting tenx/env/vars from existing file /var/folders/dp/57y4rbx55kxdswwsnmzgp_j40000gn/T/tenx_env_vars.json..\n",
      "StrapiGraphql run_stage: u2jcms\n",
      "strapi_graphql.py:__init__:35: get_auth(ssmkey=U2J_PROD_STRAPI_TOKEN, envvar=STRAPI_TOKEN, fconfig=/var/folders/dp/57y4rbx55kxdswwsnmzgp_j40000gn/T/u2jcms.json)\n",
      "Getting tenx/env/vars from existing file /var/folders/dp/57y4rbx55kxdswwsnmzgp_j40000gn/T/tenx_env_vars.json..\n",
      "strapi_methods.py:__init__:30: get_auth(ssmkey=U2J_PROD_STRAPI_TOKEN, envvar=STRAPI_TOKEN, fconfig=/var/folders/dp/57y4rbx55kxdswwsnmzgp_j40000gn/T/u2jcms.json)\n",
      "Getting tenx/env/vars from existing file /var/folders/dp/57y4rbx55kxdswwsnmzgp_j40000gn/T/tenx_env_vars.json..\n"
     ]
    }
   ],
   "source": [
    "sg = StrapiGraphql(run_stage=u2j_trainee_config.run_stage)\n",
    "sm = StrapiMethods(run_stage=u2j_trainee_config.run_stage)\n",
    "cm = CommunicationManager()\n",
    "tip = TraineeInformationProcesssor()"
   ]
  },
  {
   "attachments": {},
   "cell_type": "markdown",
   "metadata": {},
   "source": [
    "### create user, all user for trainees"
   ]
  },
  {
   "cell_type": "code",
   "execution_count": 5,
   "metadata": {},
   "outputs": [
    {
     "name": "stdout",
     "output_type": "stream",
     "text": [
      "gdrive.py:__init__:99: get_auth(ssmkey=gspread/config, envvar=GSPREAD_CONFIG, fconfig=~/.env/gclass_credentials.json)\n",
      "reading auth from file: /var/folders/dp/57y4rbx55kxdswwsnmzgp_j40000gn/T/gclass_credentials.json ..\n",
      "****** using service account: ~/.env/gclass_credentials.json\n",
      "service account is being used without delegation..\n",
      "------------test df.shape=(442, 4)----\n"
     ]
    },
    {
     "name": "stderr",
     "output_type": "stream",
     "text": [
      "/Users/mahlettaye/miniconda3/envs/pjmatch/lib/python3.9/site-packages/pandas/core/frame.py:5039: SettingWithCopyWarning: \n",
      "A value is trying to be set on a copy of a slice from a DataFrame\n",
      "\n",
      "See the caveats in the documentation: https://pandas.pydata.org/pandas-docs/stable/user_guide/indexing.html#returning-a-view-versus-a-copy\n",
      "  return super().rename(\n"
     ]
    }
   ],
   "source": [
    "ddf = tip.prepare_applicants()"
   ]
  },
  {
   "cell_type": "code",
   "execution_count": 14,
   "metadata": {},
   "outputs": [
    {
     "data": {
      "text/html": [
       "<div>\n",
       "<style scoped>\n",
       "    .dataframe tbody tr th:only-of-type {\n",
       "        vertical-align: middle;\n",
       "    }\n",
       "\n",
       "    .dataframe tbody tr th {\n",
       "        vertical-align: top;\n",
       "    }\n",
       "\n",
       "    .dataframe thead th {\n",
       "        text-align: right;\n",
       "    }\n",
       "</style>\n",
       "<table border=\"1\" class=\"dataframe\">\n",
       "  <thead>\n",
       "    <tr style=\"text-align: right;\">\n",
       "      <th></th>\n",
       "      <th>email</th>\n",
       "      <th>name</th>\n",
       "      <th>Country</th>\n",
       "      <th>gender</th>\n",
       "      <th>role</th>\n",
       "      <th>Batch</th>\n",
       "    </tr>\n",
       "  </thead>\n",
       "  <tbody>\n",
       "    <tr>\n",
       "      <th>81</th>\n",
       "      <td>hermione.denakpo@gmail.com</td>\n",
       "      <td>Hermione Denakpo</td>\n",
       "      <td>Benin</td>\n",
       "      <td>Female</td>\n",
       "      <td>trainee</td>\n",
       "      <td>1</td>\n",
       "    </tr>\n",
       "    <tr>\n",
       "      <th>82</th>\n",
       "      <td>johnsongraceadaobi@gmail.com</td>\n",
       "      <td>Grace Johnson</td>\n",
       "      <td>Nigeria</td>\n",
       "      <td>Female</td>\n",
       "      <td>trainee</td>\n",
       "      <td>1</td>\n",
       "    </tr>\n",
       "    <tr>\n",
       "      <th>83</th>\n",
       "      <td>atueyijenny@gmail.com</td>\n",
       "      <td>Jennifer Atueyi</td>\n",
       "      <td>Nigeria</td>\n",
       "      <td>Female</td>\n",
       "      <td>trainee</td>\n",
       "      <td>1</td>\n",
       "    </tr>\n",
       "    <tr>\n",
       "      <th>84</th>\n",
       "      <td>shaylabookworm.9900@gmail.com</td>\n",
       "      <td>Khushali Kunvarji</td>\n",
       "      <td>Kenya</td>\n",
       "      <td>Female</td>\n",
       "      <td>trainee</td>\n",
       "      <td>1</td>\n",
       "    </tr>\n",
       "    <tr>\n",
       "      <th>85</th>\n",
       "      <td>amosamnew@gmail.com</td>\n",
       "      <td>Amir Ali</td>\n",
       "      <td>Ethiopia</td>\n",
       "      <td>Male</td>\n",
       "      <td>trainee</td>\n",
       "      <td>1</td>\n",
       "    </tr>\n",
       "    <tr>\n",
       "      <th>...</th>\n",
       "      <td>...</td>\n",
       "      <td>...</td>\n",
       "      <td>...</td>\n",
       "      <td>...</td>\n",
       "      <td>...</td>\n",
       "      <td>...</td>\n",
       "    </tr>\n",
       "    <tr>\n",
       "      <th>438</th>\n",
       "      <td>rahelasne@gmail.com</td>\n",
       "      <td>Rahel Asnake</td>\n",
       "      <td>Ethiopia</td>\n",
       "      <td>Female</td>\n",
       "      <td>trainee</td>\n",
       "      <td>1</td>\n",
       "    </tr>\n",
       "    <tr>\n",
       "      <th>439</th>\n",
       "      <td>faluyifrederick@gmail.com</td>\n",
       "      <td>Frederick Faluyi</td>\n",
       "      <td>Nigeria</td>\n",
       "      <td>Male</td>\n",
       "      <td>trainee</td>\n",
       "      <td>1</td>\n",
       "    </tr>\n",
       "    <tr>\n",
       "      <th>440</th>\n",
       "      <td>markosmulualem@gmail.com</td>\n",
       "      <td>Mulualem Anshebo</td>\n",
       "      <td>Ethiopia</td>\n",
       "      <td>Male</td>\n",
       "      <td>trainee</td>\n",
       "      <td>1</td>\n",
       "    </tr>\n",
       "    <tr>\n",
       "      <th>441</th>\n",
       "      <td>entoti7080@gmail.com</td>\n",
       "      <td>Medan Zelalem</td>\n",
       "      <td>Ethiopia</td>\n",
       "      <td>Male</td>\n",
       "      <td>trainee</td>\n",
       "      <td>1</td>\n",
       "    </tr>\n",
       "    <tr>\n",
       "      <th>442</th>\n",
       "      <td>gob.ju2006@gmail.com</td>\n",
       "      <td>Gobezie Tegegne</td>\n",
       "      <td>Ethiopia</td>\n",
       "      <td>Male</td>\n",
       "      <td>trainee</td>\n",
       "      <td>1</td>\n",
       "    </tr>\n",
       "  </tbody>\n",
       "</table>\n",
       "<p>362 rows × 6 columns</p>\n",
       "</div>"
      ],
      "text/plain": [
       "                             email               name   Country   gender  \\\n",
       "81      hermione.denakpo@gmail.com   Hermione Denakpo     Benin  Female    \n",
       "82    johnsongraceadaobi@gmail.com      Grace Johnson   Nigeria  Female    \n",
       "83           atueyijenny@gmail.com    Jennifer Atueyi   Nigeria  Female    \n",
       "84   shaylabookworm.9900@gmail.com  Khushali Kunvarji     Kenya  Female    \n",
       "85             amosamnew@gmail.com           Amir Ali  Ethiopia     Male   \n",
       "..                             ...                ...       ...      ...   \n",
       "438            rahelasne@gmail.com       Rahel Asnake  Ethiopia  Female    \n",
       "439      faluyifrederick@gmail.com   Frederick Faluyi   Nigeria     Male   \n",
       "440       markosmulualem@gmail.com   Mulualem Anshebo  Ethiopia     Male   \n",
       "441           entoti7080@gmail.com      Medan Zelalem  Ethiopia     Male   \n",
       "442           gob.ju2006@gmail.com    Gobezie Tegegne  Ethiopia     Male   \n",
       "\n",
       "        role  Batch  \n",
       "81   trainee      1  \n",
       "82   trainee      1  \n",
       "83   trainee      1  \n",
       "84   trainee      1  \n",
       "85   trainee      1  \n",
       "..       ...    ...  \n",
       "438  trainee      1  \n",
       "439  trainee      1  \n",
       "440  trainee      1  \n",
       "441  trainee      1  \n",
       "442  trainee      1  \n",
       "\n",
       "[362 rows x 6 columns]"
      ]
     },
     "execution_count": 14,
     "metadata": {},
     "output_type": "execute_result"
    }
   ],
   "source": [
    "ddf[81:]"
   ]
  },
  {
   "cell_type": "code",
   "execution_count": 15,
   "metadata": {},
   "outputs": [
    {
     "name": "stdout",
     "output_type": "stream",
     "text": [
      "/Users/mahlettaye/review\n"
     ]
    },
    {
     "data": {
      "text/plain": [
       "'https://u2jcms.10academy.org/graphql'"
      ]
     },
     "execution_count": 15,
     "metadata": {},
     "output_type": "execute_result"
    }
   ],
   "source": [
    "tip.sg.apiroot"
   ]
  },
  {
   "cell_type": "code",
   "execution_count": 17,
   "metadata": {},
   "outputs": [
    {
     "name": "stdout",
     "output_type": "stream",
     "text": [
      "gdrive.py:__init__:99: get_auth(ssmkey=gspread/config, envvar=GSPREAD_CONFIG, fconfig=~/.env/gclass_credentials.json)\n",
      "reading auth from file: /var/folders/dp/57y4rbx55kxdswwsnmzgp_j40000gn/T/gclass_credentials.json ..\n",
      "****** using service account: ~/.env/gclass_credentials.json\n",
      "service account is being used without delegation..\n",
      "------------test df.shape=(442, 4)----\n",
      "inserting user..... {'name': 'Grace Johnson', 'email': 'johnsongraceadaobi@gmail.com', 'role': 'trainee', 'batch': 1}\n",
      "passed variables ........... {'username': 'Grace Johnson', 'email': 'johnsongraceadaobi@gmail.com'}\n",
      "result json {'data': {'register': {'user': {'id': '105', 'username': 'Grace Johnson', 'email': 'johnsongraceadaobi@gmail.com'}}}}\n",
      "{'data': {'createAllUser': {'data': {'id': '104'}}}}\n",
      "inserting user..... {'name': 'Jennifer Atueyi', 'email': 'atueyijenny@gmail.com', 'role': 'trainee', 'batch': 1}\n",
      "passed variables ........... {'username': 'Jennifer Atueyi', 'email': 'atueyijenny@gmail.com'}\n",
      "result json {'data': {'register': {'user': {'id': '106', 'username': 'Jennifer Atueyi', 'email': 'atueyijenny@gmail.com'}}}}\n",
      "{'data': {'createAllUser': {'data': {'id': '105'}}}}\n",
      "inserting user..... {'name': 'Khushali Kunvarji', 'email': 'shaylabookworm.9900@gmail.com', 'role': 'trainee', 'batch': 1}\n",
      "passed variables ........... {'username': 'Khushali Kunvarji', 'email': 'shaylabookworm.9900@gmail.com'}\n",
      "result json {'data': {'register': {'user': {'id': '107', 'username': 'Khushali Kunvarji', 'email': 'shaylabookworm.9900@gmail.com'}}}}\n",
      "{'data': {'createAllUser': {'data': {'id': '106'}}}}\n",
      "inserting user..... {'name': 'Amir Ali', 'email': 'amosamnew@gmail.com', 'role': 'trainee', 'batch': 1}\n",
      "passed variables ........... {'username': 'Amir Ali', 'email': 'amosamnew@gmail.com'}\n",
      "result json {'data': {'register': {'user': {'id': '108', 'username': 'Amir Ali', 'email': 'amosamnew@gmail.com'}}}}\n",
      "{'data': {'createAllUser': {'data': {'id': '107'}}}}\n",
      "inserting user..... {'name': 'Feyisayo Ogunlade', 'email': 'feyisayoogunlade3@gmail.com', 'role': 'trainee', 'batch': 1}\n",
      "passed variables ........... {'username': 'Feyisayo Ogunlade', 'email': 'feyisayoogunlade3@gmail.com'}\n",
      "result json {'data': {'register': {'user': {'id': '109', 'username': 'Feyisayo Ogunlade', 'email': 'feyisayoogunlade3@gmail.com'}}}}\n",
      "{'data': {'createAllUser': {'data': {'id': '108'}}}}\n",
      "inserting user..... {'name': 'Ohunene Majebi', 'email': 'ohunenemajebi@gmail.com', 'role': 'trainee', 'batch': 1}\n",
      "passed variables ........... {'username': 'Ohunene Majebi', 'email': 'ohunenemajebi@gmail.com'}\n",
      "result json {'data': {'register': {'user': {'id': '110', 'username': 'Ohunene Majebi', 'email': 'ohunenemajebi@gmail.com'}}}}\n",
      "{'data': {'createAllUser': {'data': {'id': '109'}}}}\n",
      "inserting user..... {'name': 'Salvation Chigereoka', 'email': 'salvichrisng@gmail.com', 'role': 'trainee', 'batch': 1}\n",
      "passed variables ........... {'username': 'Salvation Chigereoka', 'email': 'salvichrisng@gmail.com'}\n",
      "result json {'data': {'register': {'user': {'id': '111', 'username': 'Salvation Chigereoka', 'email': 'salvichrisng@gmail.com'}}}}\n",
      "{'data': {'createAllUser': {'data': {'id': '110'}}}}\n",
      "inserting user..... {'name': 'Kefilwe Matake', 'email': 'matakekf@gmail.com', 'role': 'trainee', 'batch': 1}\n",
      "passed variables ........... {'username': 'Kefilwe Matake', 'email': 'matakekf@gmail.com'}\n",
      "result json {'data': {'register': {'user': {'id': '112', 'username': 'Kefilwe Matake', 'email': 'matakekf@gmail.com'}}}}\n",
      "{'data': {'createAllUser': {'data': {'id': '111'}}}}\n",
      "inserting user..... {'name': 'Ifeyinwa Owuama', 'email': 'owuamaifeyinwa28@gmail.com', 'role': 'trainee', 'batch': 1}\n",
      "passed variables ........... {'username': 'Ifeyinwa Owuama', 'email': 'owuamaifeyinwa28@gmail.com'}\n",
      "result json {'data': {'register': {'user': {'id': '113', 'username': 'Ifeyinwa Owuama', 'email': 'owuamaifeyinwa28@gmail.com'}}}}\n",
      "{'data': {'createAllUser': {'data': {'id': '112'}}}}\n",
      "inserting user..... {'name': 'Daniel Karume', 'email': 'danielkarume@outlook.com', 'role': 'trainee', 'batch': 1}\n",
      "passed variables ........... {'username': 'Daniel Karume', 'email': 'danielkarume@outlook.com'}\n",
      "result json {'data': {'register': {'user': {'id': '114', 'username': 'Daniel Karume', 'email': 'danielkarume@outlook.com'}}}}\n",
      "{'data': {'createAllUser': {'data': {'id': '113'}}}}\n",
      "inserting user..... {'name': 'Israel Aiyegbeni', 'email': 'aiyegbeniisrael@yahoo.com', 'role': 'trainee', 'batch': 1}\n",
      "passed variables ........... {'username': 'Israel Aiyegbeni', 'email': 'aiyegbeniisrael@yahoo.com'}\n",
      "result json {'data': {'register': {'user': {'id': '115', 'username': 'Israel Aiyegbeni', 'email': 'aiyegbeniisrael@yahoo.com'}}}}\n",
      "{'data': {'createAllUser': {'data': {'id': '114'}}}}\n",
      "inserting user..... {'name': 'Mercy Ruga', 'email': 'mercyruga9@gmail.com', 'role': 'trainee', 'batch': 1}\n",
      "passed variables ........... {'username': 'Mercy Ruga', 'email': 'mercyruga9@gmail.com'}\n",
      "result json {'data': {'register': {'user': {'id': '116', 'username': 'Mercy Ruga', 'email': 'mercyruga9@gmail.com'}}}}\n",
      "{'data': {'createAllUser': {'data': {'id': '115'}}}}\n",
      "inserting user..... {'name': 'Yiftusira Yitayew', 'email': 'yiftu2006@gmail.com', 'role': 'trainee', 'batch': 1}\n",
      "passed variables ........... {'username': 'Yiftusira Yitayew', 'email': 'yiftu2006@gmail.com'}\n",
      "result json {'data': {'register': {'user': {'id': '117', 'username': 'Yiftusira Yitayew', 'email': 'yiftu2006@gmail.com'}}}}\n",
      "{'data': {'createAllUser': {'data': {'id': '116'}}}}\n",
      "inserting user..... {'name': 'Alvis Mwangi', 'email': 'alvismwangi8907@gmail.com', 'role': 'trainee', 'batch': 1}\n",
      "passed variables ........... {'username': 'Alvis Mwangi', 'email': 'alvismwangi8907@gmail.com'}\n",
      "result json {'data': {'register': {'user': {'id': '118', 'username': 'Alvis Mwangi', 'email': 'alvismwangi8907@gmail.com'}}}}\n",
      "{'data': {'createAllUser': {'data': {'id': '117'}}}}\n",
      "inserting user..... {'name': 'Kikelomo Akande', 'email': 'akandekikelomo9@gmail.com', 'role': 'trainee', 'batch': 1}\n",
      "passed variables ........... {'username': 'Kikelomo Akande', 'email': 'akandekikelomo9@gmail.com'}\n",
      "result json {'data': {'register': {'user': {'id': '119', 'username': 'Kikelomo Akande', 'email': 'akandekikelomo9@gmail.com'}}}}\n",
      "{'data': {'createAllUser': {'data': {'id': '118'}}}}\n",
      "inserting user..... {'name': 'Jolly Omere', 'email': 'jollyomere@gmail.com', 'role': 'trainee', 'batch': 1}\n",
      "passed variables ........... {'username': 'Jolly Omere', 'email': 'jollyomere@gmail.com'}\n",
      "result json {'data': {'register': {'user': {'id': '120', 'username': 'Jolly Omere', 'email': 'jollyomere@gmail.com'}}}}\n",
      "{'data': {'createAllUser': {'data': {'id': '119'}}}}\n",
      "inserting user..... {'name': 'Fanambinantsoa Malaza Rajemison', 'email': 'mfanambinantsoa.mf@gmail.com', 'role': 'trainee', 'batch': 1}\n",
      "passed variables ........... {'username': 'Fanambinantsoa Malaza Rajemison', 'email': 'mfanambinantsoa.mf@gmail.com'}\n",
      "result json {'data': {'register': {'user': {'id': '121', 'username': 'Fanambinantsoa Malaza Rajemison', 'email': 'mfanambinantsoa.mf@gmail.com'}}}}\n",
      "{'data': {'createAllUser': {'data': {'id': '120'}}}}\n",
      "inserting user..... {'name': 'Gilbert Tcheugoue Djissitchedjibril', 'email': 'djibriltcheugoue@gmail.com', 'role': 'trainee', 'batch': 1}\n",
      "passed variables ........... {'username': 'Gilbert Tcheugoue Djissitchedjibril', 'email': 'djibriltcheugoue@gmail.com'}\n",
      "result json {'data': {'register': {'user': {'id': '122', 'username': 'Gilbert Tcheugoue Djissitchedjibril', 'email': 'djibriltcheugoue@gmail.com'}}}}\n",
      "{'data': {'createAllUser': {'data': {'id': '121'}}}}\n",
      "inserting user..... {'name': 'Daji Owolabi Marvelous', 'email': 'dajiowolabi6@gmail.com', 'role': 'trainee', 'batch': 1}\n",
      "passed variables ........... {'username': 'Daji Owolabi Marvelous', 'email': 'dajiowolabi6@gmail.com'}\n",
      "result json {'data': {'register': {'user': {'id': '123', 'username': 'Daji Owolabi Marvelous', 'email': 'dajiowolabi6@gmail.com'}}}}\n",
      "{'data': {'createAllUser': {'data': {'id': '122'}}}}\n",
      "inserting user..... {'name': 'Adaeze Oguzie', 'email': 'ada.oguzie@gmail.com', 'role': 'trainee', 'batch': 1}\n",
      "passed variables ........... {'username': 'Adaeze Oguzie', 'email': 'ada.oguzie@gmail.com'}\n",
      "result json {'data': {'register': {'user': {'id': '124', 'username': 'Adaeze Oguzie', 'email': 'ada.oguzie@gmail.com'}}}}\n",
      "{'data': {'createAllUser': {'data': {'id': '123'}}}}\n",
      "Processed rows 1 to 20\n",
      "Pausing for 5 minutes...\n",
      "inserting user..... {'name': 'Anbesaw Belete Mekonnen', 'email': 'anbesawit@gmail.com', 'role': 'trainee', 'batch': 1}\n",
      "passed variables ........... {'username': 'Anbesaw Belete Mekonnen', 'email': 'anbesawit@gmail.com'}\n",
      "result json {'data': {'register': {'user': {'id': '125', 'username': 'Anbesaw Belete Mekonnen', 'email': 'anbesawit@gmail.com'}}}}\n",
      "{'data': {'createAllUser': {'data': {'id': '124'}}}}\n",
      "inserting user..... {'name': 'Brian Ochieng', 'email': 'brianochieng1024@gmail.com', 'role': 'trainee', 'batch': 1}\n",
      "passed variables ........... {'username': 'Brian Ochieng', 'email': 'brianochieng1024@gmail.com'}\n",
      "result json {'data': {'register': {'user': {'id': '126', 'username': 'Brian Ochieng', 'email': 'brianochieng1024@gmail.com'}}}}\n",
      "{'data': {'createAllUser': {'data': {'id': '125'}}}}\n",
      "inserting user..... {'name': 'Paulcy Mboungou', 'email': 'paulcy.mboungou@mtn.com', 'role': 'trainee', 'batch': 1}\n",
      "passed variables ........... {'username': 'Paulcy Mboungou', 'email': 'paulcy.mboungou@mtn.com'}\n",
      "result json {'data': {'register': {'user': {'id': '127', 'username': 'Paulcy Mboungou', 'email': 'paulcy.mboungou@mtn.com'}}}}\n",
      "{'data': {'createAllUser': {'data': {'id': '126'}}}}\n",
      "inserting user..... {'name': 'Helina Abebel', 'email': 'helu.abebel12@gmail.com', 'role': 'trainee', 'batch': 1}\n",
      "passed variables ........... {'username': 'Helina Abebel', 'email': 'helu.abebel12@gmail.com'}\n",
      "result json {'data': {'register': {'user': {'id': '128', 'username': 'Helina Abebel', 'email': 'helu.abebel12@gmail.com'}}}}\n",
      "{'data': {'createAllUser': {'data': {'id': '127'}}}}\n",
      "inserting user..... {'name': 'Yara Nazih', 'email': 'guesswhat2327@gmail.com', 'role': 'trainee', 'batch': 1}\n",
      "passed variables ........... {'username': 'Yara Nazih', 'email': 'guesswhat2327@gmail.com'}\n",
      "result json {'data': {'register': {'user': {'id': '129', 'username': 'Yara Nazih', 'email': 'guesswhat2327@gmail.com'}}}}\n",
      "{'data': {'createAllUser': {'data': {'id': '128'}}}}\n",
      "inserting user..... {'name': 'Petros Roma', 'email': 'petresroma@gmail.com', 'role': 'trainee', 'batch': 1}\n",
      "passed variables ........... {'username': 'Petros Roma', 'email': 'petresroma@gmail.com'}\n",
      "result json {'data': {'register': {'user': {'id': '130', 'username': 'Petros Roma', 'email': 'petresroma@gmail.com'}}}}\n",
      "{'data': {'createAllUser': {'data': {'id': '129'}}}}\n",
      "inserting user..... {'name': 'Gudina Teshome', 'email': 'guditeshe@gmail.com', 'role': 'trainee', 'batch': 1}\n",
      "passed variables ........... {'username': 'Gudina Teshome', 'email': 'guditeshe@gmail.com'}\n",
      "result json {'data': {'register': {'user': {'id': '131', 'username': 'Gudina Teshome', 'email': 'guditeshe@gmail.com'}}}}\n",
      "{'data': {'createAllUser': {'data': {'id': '130'}}}}\n",
      "inserting user..... {'name': 'Fawaz AbdulAzeez', 'email': 'fabazeez1@gmail.com', 'role': 'trainee', 'batch': 1}\n",
      "passed variables ........... {'username': 'Fawaz AbdulAzeez', 'email': 'fabazeez1@gmail.com'}\n",
      "result json {'data': {'register': {'user': {'id': '132', 'username': 'Fawaz AbdulAzeez', 'email': 'fabazeez1@gmail.com'}}}}\n",
      "{'data': {'createAllUser': {'data': {'id': '131'}}}}\n",
      "inserting user..... {'name': 'Faith Nyasuguta', 'email': 'faithnyasuguta1@gmail.com', 'role': 'trainee', 'batch': 1}\n",
      "passed variables ........... {'username': 'Faith Nyasuguta', 'email': 'faithnyasuguta1@gmail.com'}\n",
      "result json {'data': {'register': {'user': {'id': '133', 'username': 'Faith Nyasuguta', 'email': 'faithnyasuguta1@gmail.com'}}}}\n",
      "{'data': {'createAllUser': {'data': {'id': '132'}}}}\n",
      "inserting user..... {'name': 'Tensad Deribe', 'email': 'tensaelakew2@gmail.com', 'role': 'trainee', 'batch': 1}\n",
      "passed variables ........... {'username': 'Tensad Deribe', 'email': 'tensaelakew2@gmail.com'}\n",
      "result json {'data': {'register': {'user': {'id': '134', 'username': 'Tensad Deribe', 'email': 'tensaelakew2@gmail.com'}}}}\n",
      "{'data': {'createAllUser': {'data': {'id': '133'}}}}\n",
      "inserting user..... {'name': 'Temesgen Gebreabzgi', 'email': 'temesgengebreab33@gmail.com', 'role': 'trainee', 'batch': 1}\n",
      "passed variables ........... {'username': 'Temesgen Gebreabzgi', 'email': 'temesgengebreab33@gmail.com'}\n",
      "result json {'data': {'register': {'user': {'id': '135', 'username': 'Temesgen Gebreabzgi', 'email': 'temesgengebreab33@gmail.com'}}}}\n",
      "{'data': {'createAllUser': {'data': {'id': '134'}}}}\n",
      "inserting user..... {'name': 'Bernard Bafoe', 'email': 'akwasibafoe@gmail.com', 'role': 'trainee', 'batch': 1}\n",
      "passed variables ........... {'username': 'Bernard Bafoe', 'email': 'akwasibafoe@gmail.com'}\n",
      "result json {'data': {'register': {'user': {'id': '136', 'username': 'Bernard Bafoe', 'email': 'akwasibafoe@gmail.com'}}}}\n",
      "{'data': {'createAllUser': {'data': {'id': '135'}}}}\n",
      "inserting user..... {'name': 'Kassim Dzambo', 'email': 'kassimdzambo06@gmail.com', 'role': 'trainee', 'batch': 1}\n",
      "passed variables ........... {'username': 'Kassim Dzambo', 'email': 'kassimdzambo06@gmail.com'}\n",
      "result json {'data': {'register': {'user': {'id': '137', 'username': 'Kassim Dzambo', 'email': 'kassimdzambo06@gmail.com'}}}}\n",
      "{'data': {'createAllUser': {'data': {'id': '136'}}}}\n",
      "inserting user..... {'name': 'Esther Kairungu', 'email': 'ekairungu@gmail.com', 'role': 'trainee', 'batch': 1}\n",
      "passed variables ........... {'username': 'Esther Kairungu', 'email': 'ekairungu@gmail.com'}\n",
      "result json {'data': {'register': {'user': {'id': '138', 'username': 'Esther Kairungu', 'email': 'ekairungu@gmail.com'}}}}\n",
      "{'data': {'createAllUser': {'data': {'id': '137'}}}}\n",
      "inserting user..... {'name': 'Kwame OwusuSarkodie', 'email': 'kosarkodie02@gmail.com', 'role': 'trainee', 'batch': 1}\n",
      "passed variables ........... {'username': 'Kwame OwusuSarkodie', 'email': 'kosarkodie02@gmail.com'}\n",
      "result json {'data': {'register': {'user': {'id': '139', 'username': 'Kwame OwusuSarkodie', 'email': 'kosarkodie02@gmail.com'}}}}\n",
      "{'data': {'createAllUser': {'data': {'id': '138'}}}}\n",
      "inserting user..... {'name': 'Abel Girma', 'email': 'abelgirma92@gmail.com', 'role': 'trainee', 'batch': 1}\n",
      "passed variables ........... {'username': 'Abel Girma', 'email': 'abelgirma92@gmail.com'}\n",
      "result json {'data': {'register': {'user': {'id': '140', 'username': 'Abel Girma', 'email': 'abelgirma92@gmail.com'}}}}\n",
      "{'data': {'createAllUser': {'data': {'id': '139'}}}}\n",
      "inserting user..... {'name': 'Bernard Adjei Sarfo', 'email': 'bensarf2@gmail.com', 'role': 'trainee', 'batch': 1}\n",
      "passed variables ........... {'username': 'Bernard Adjei Sarfo', 'email': 'bensarf2@gmail.com'}\n",
      "result json {'data': {'register': {'user': {'id': '141', 'username': 'Bernard Adjei Sarfo', 'email': 'bensarf2@gmail.com'}}}}\n",
      "{'data': {'createAllUser': {'data': {'id': '140'}}}}\n",
      "inserting user..... {'name': 'Roba Mengesha', 'email': 'mengesha.roba@gmail.com', 'role': 'trainee', 'batch': 1}\n",
      "passed variables ........... {'username': 'Roba Mengesha', 'email': 'mengesha.roba@gmail.com'}\n",
      "result json {'data': {'register': {'user': {'id': '142', 'username': 'Roba Mengesha', 'email': 'mengesha.roba@gmail.com'}}}}\n",
      "{'data': {'createAllUser': {'data': {'id': '141'}}}}\n",
      "inserting user..... {'name': 'Ayantade Rofiat', 'email': 'rofiahayantade@gmail.com', 'role': 'trainee', 'batch': 1}\n",
      "passed variables ........... {'username': 'Ayantade Rofiat', 'email': 'rofiahayantade@gmail.com'}\n",
      "result json {'data': {'register': {'user': {'id': '143', 'username': 'Ayantade Rofiat', 'email': 'rofiahayantade@gmail.com'}}}}\n",
      "{'data': {'createAllUser': {'data': {'id': '142'}}}}\n",
      "inserting user..... {'name': 'Guyo Kulule', 'email': 'guyokulule44@gmail.com', 'role': 'trainee', 'batch': 1}\n",
      "passed variables ........... {'username': 'Guyo Kulule', 'email': 'guyokulule44@gmail.com'}\n",
      "result json {'data': {'register': {'user': {'id': '144', 'username': 'Guyo Kulule', 'email': 'guyokulule44@gmail.com'}}}}\n",
      "{'data': {'createAllUser': {'data': {'id': '143'}}}}\n",
      "Processed rows 21 to 40\n",
      "Pausing for 5 minutes...\n",
      "inserting user..... {'name': 'Dawit Hailemariam', 'email': 'dawitdass@gmail.com', 'role': 'trainee', 'batch': 1}\n",
      "passed variables ........... {'username': 'Dawit Hailemariam', 'email': 'dawitdass@gmail.com'}\n",
      "result json {'data': {'register': {'user': {'id': '145', 'username': 'Dawit Hailemariam', 'email': 'dawitdass@gmail.com'}}}}\n",
      "{'data': {'createAllUser': {'data': {'id': '144'}}}}\n",
      "inserting user..... {'name': 'Leul Zewdu', 'email': 'leulzewduchanie@gmail.com', 'role': 'trainee', 'batch': 1}\n",
      "passed variables ........... {'username': 'Leul Zewdu', 'email': 'leulzewduchanie@gmail.com'}\n",
      "result json {'data': {'register': {'user': {'id': '146', 'username': 'Leul Zewdu', 'email': 'leulzewduchanie@gmail.com'}}}}\n",
      "{'data': {'createAllUser': {'data': {'id': '145'}}}}\n",
      "inserting user..... {'name': 'Jane Koloko', 'email': 'kolokoalexia@gmail.com', 'role': 'trainee', 'batch': 1}\n",
      "passed variables ........... {'username': 'Jane Koloko', 'email': 'kolokoalexia@gmail.com'}\n",
      "result json {'data': {'register': {'user': {'id': '147', 'username': 'Jane Koloko', 'email': 'kolokoalexia@gmail.com'}}}}\n",
      "{'data': {'createAllUser': {'data': {'id': '146'}}}}\n",
      "inserting user..... {'name': 'Richard Otwoma', 'email': 'ronyansi11@gmail.com', 'role': 'trainee', 'batch': 1}\n",
      "passed variables ........... {'username': 'Richard Otwoma', 'email': 'ronyansi11@gmail.com'}\n",
      "result json {'data': {'register': {'user': {'id': '148', 'username': 'Richard Otwoma', 'email': 'ronyansi11@gmail.com'}}}}\n",
      "{'data': {'createAllUser': {'data': {'id': '147'}}}}\n",
      "inserting user..... {'name': 'Favour Okala', 'email': 'favourokala7@gmail.com', 'role': 'trainee', 'batch': 1}\n",
      "passed variables ........... {'username': 'Favour Okala', 'email': 'favourokala7@gmail.com'}\n",
      "result json {'data': {'register': {'user': {'id': '149', 'username': 'Favour Okala', 'email': 'favourokala7@gmail.com'}}}}\n",
      "{'data': {'createAllUser': {'data': {'id': '148'}}}}\n",
      "inserting user..... {'name': 'Tigist Endale', 'email': 'tigistendale6@gmail.com', 'role': 'trainee', 'batch': 1}\n",
      "passed variables ........... {'username': 'Tigist Endale', 'email': 'tigistendale6@gmail.com'}\n",
      "result json {'data': {'register': {'user': {'id': '150', 'username': 'Tigist Endale', 'email': 'tigistendale6@gmail.com'}}}}\n",
      "{'data': {'createAllUser': {'data': {'id': '149'}}}}\n",
      "inserting user..... {'name': 'Emery Ntwari', 'email': 'ntwariemery007@gmail.com', 'role': 'trainee', 'batch': 1}\n",
      "passed variables ........... {'username': 'Emery Ntwari', 'email': 'ntwariemery007@gmail.com'}\n",
      "result json {'data': {'register': {'user': {'id': '151', 'username': 'Emery Ntwari', 'email': 'ntwariemery007@gmail.com'}}}}\n",
      "{'data': {'createAllUser': {'data': {'id': '150'}}}}\n",
      "inserting user..... {'name': 'Emily Polycarp', 'email': 'emilypolycarp@gmail.com', 'role': 'trainee', 'batch': 1}\n",
      "passed variables ........... {'username': 'Emily Polycarp', 'email': 'emilypolycarp@gmail.com'}\n",
      "result json {'data': {'register': {'user': {'id': '152', 'username': 'Emily Polycarp', 'email': 'emilypolycarp@gmail.com'}}}}\n",
      "{'data': {'createAllUser': {'data': {'id': '151'}}}}\n",
      "inserting user..... {'name': 'Birhanemeskel Shiferaw', 'email': 'birmeskelal@gmail.com', 'role': 'trainee', 'batch': 1}\n",
      "passed variables ........... {'username': 'Birhanemeskel Shiferaw', 'email': 'birmeskelal@gmail.com'}\n",
      "result json {'data': {'register': {'user': {'id': '153', 'username': 'Birhanemeskel Shiferaw', 'email': 'birmeskelal@gmail.com'}}}}\n",
      "{'data': {'createAllUser': {'data': {'id': '152'}}}}\n",
      "inserting user..... {'name': 'Solome Anteneh', 'email': 'solomeanteneh21@gmail.com', 'role': 'trainee', 'batch': 1}\n",
      "passed variables ........... {'username': 'Solome Anteneh', 'email': 'solomeanteneh21@gmail.com'}\n",
      "result json {'data': {'register': {'user': {'id': '154', 'username': 'Solome Anteneh', 'email': 'solomeanteneh21@gmail.com'}}}}\n",
      "{'data': {'createAllUser': {'data': {'id': '153'}}}}\n",
      "inserting user..... {'name': 'Aminu Bello', 'email': 'aminubellz249@gmail.com', 'role': 'trainee', 'batch': 1}\n",
      "passed variables ........... {'username': 'Aminu Bello', 'email': 'aminubellz249@gmail.com'}\n",
      "result json {'data': {'register': {'user': {'id': '155', 'username': 'Aminu Bello', 'email': 'aminubellz249@gmail.com'}}}}\n",
      "{'data': {'createAllUser': {'data': {'id': '154'}}}}\n",
      "inserting user..... {'name': 'Leah Kariuki', 'email': 'kariukileah.n@gmail.com', 'role': 'trainee', 'batch': 1}\n",
      "passed variables ........... {'username': 'Leah Kariuki', 'email': 'kariukileah.n@gmail.com'}\n",
      "result json {'data': {'register': {'user': {'id': '156', 'username': 'Leah Kariuki', 'email': 'kariukileah.n@gmail.com'}}}}\n",
      "{'data': {'createAllUser': {'data': {'id': '155'}}}}\n",
      "inserting user..... {'name': 'Kabipe Mussa', 'email': 'kabipemussa333@gmail.com', 'role': 'trainee', 'batch': 1}\n",
      "passed variables ........... {'username': 'Kabipe Mussa', 'email': 'kabipemussa333@gmail.com'}\n",
      "result json {'data': {'register': {'user': {'id': '157', 'username': 'Kabipe Mussa', 'email': 'kabipemussa333@gmail.com'}}}}\n",
      "{'data': {'createAllUser': {'data': {'id': '156'}}}}\n",
      "inserting user..... {'name': 'Roselyn Bamigboye', 'email': 'rosebamigboye@gmail.com', 'role': 'trainee', 'batch': 1}\n",
      "passed variables ........... {'username': 'Roselyn Bamigboye', 'email': 'rosebamigboye@gmail.com'}\n",
      "result json {'data': {'register': {'user': {'id': '158', 'username': 'Roselyn Bamigboye', 'email': 'rosebamigboye@gmail.com'}}}}\n",
      "{'data': {'createAllUser': {'data': {'id': '157'}}}}\n",
      "inserting user..... {'name': 'Sharif Amadu', 'email': 'sharifshani2@gmail.com', 'role': 'trainee', 'batch': 1}\n",
      "passed variables ........... {'username': 'Sharif Amadu', 'email': 'sharifshani2@gmail.com'}\n",
      "result json {'data': {'register': {'user': {'id': '159', 'username': 'Sharif Amadu', 'email': 'sharifshani2@gmail.com'}}}}\n",
      "{'data': {'createAllUser': {'data': {'id': '158'}}}}\n",
      "inserting user..... {'name': 'Emtithal Malik', 'email': 'emtithal123.abd@gmail.com', 'role': 'trainee', 'batch': 1}\n",
      "passed variables ........... {'username': 'Emtithal Malik', 'email': 'emtithal123.abd@gmail.com'}\n",
      "result json {'data': {'register': {'user': {'id': '160', 'username': 'Emtithal Malik', 'email': 'emtithal123.abd@gmail.com'}}}}\n",
      "{'data': {'createAllUser': {'data': {'id': '159'}}}}\n",
      "inserting user..... {'name': 'Saron Bisrat', 'email': 'sarinaa.bisrat@gmail.com', 'role': 'trainee', 'batch': 1}\n",
      "passed variables ........... {'username': 'Saron Bisrat', 'email': 'sarinaa.bisrat@gmail.com'}\n",
      "result json {'data': {'register': {'user': {'id': '161', 'username': 'Saron Bisrat', 'email': 'sarinaa.bisrat@gmail.com'}}}}\n",
      "{'data': {'createAllUser': {'data': {'id': '160'}}}}\n",
      "inserting user..... {'name': 'Yordanos Mezgebu', 'email': 'yordanosmezgebu100@gmail.com', 'role': 'trainee', 'batch': 1}\n",
      "passed variables ........... {'username': 'Yordanos Mezgebu', 'email': 'yordanosmezgebu100@gmail.com'}\n",
      "result json {'data': {'register': {'user': {'id': '162', 'username': 'Yordanos Mezgebu', 'email': 'yordanosmezgebu100@gmail.com'}}}}\n",
      "{'data': {'createAllUser': {'data': {'id': '161'}}}}\n",
      "inserting user..... {'name': 'Robera Girma', 'email': 'girmaroba4@gmail.com', 'role': 'trainee', 'batch': 1}\n",
      "passed variables ........... {'username': 'Robera Girma', 'email': 'girmaroba4@gmail.com'}\n",
      "result json {'data': {'register': {'user': {'id': '163', 'username': 'Robera Girma', 'email': 'girmaroba4@gmail.com'}}}}\n",
      "{'data': {'createAllUser': {'data': {'id': '162'}}}}\n",
      "inserting user..... {'name': 'Yisihak Yuesa', 'email': 'yisihakyuesa3440@gmail.com', 'role': 'trainee', 'batch': 1}\n",
      "passed variables ........... {'username': 'Yisihak Yuesa', 'email': 'yisihakyuesa3440@gmail.com'}\n",
      "result json {'data': {'register': {'user': {'id': '164', 'username': 'Yisihak Yuesa', 'email': 'yisihakyuesa3440@gmail.com'}}}}\n",
      "{'data': {'createAllUser': {'data': {'id': '163'}}}}\n",
      "Processed rows 41 to 60\n",
      "Pausing for 5 minutes...\n"
     ]
    }
   ],
   "source": [
    "### to create user and all user \n",
    "tip.process_user_and_alluser_insertion()"
   ]
  },
  {
   "cell_type": "code",
   "execution_count": null,
   "metadata": {},
   "outputs": [],
   "source": []
  },
  {
   "attachments": {},
   "cell_type": "markdown",
   "metadata": {},
   "source": [
    "### Insert Group"
   ]
  },
  {
   "cell_type": "code",
   "execution_count": null,
   "metadata": {},
   "outputs": [],
   "source": [
    "adf = tip.select_batch_users_from_allusers()"
   ]
  },
  {
   "cell_type": "code",
   "execution_count": null,
   "metadata": {},
   "outputs": [],
   "source": [
    "tip.insert_group()"
   ]
  },
  {
   "attachments": {},
   "cell_type": "markdown",
   "metadata": {},
   "source": [
    "### Trainee Inserstion"
   ]
  },
  {
   "cell_type": "code",
   "execution_count": 28,
   "metadata": {},
   "outputs": [],
   "source": [
    "batch = tip.get_batch()\n",
    "adf = tip.select_batch_users_from_allusers()"
   ]
  },
  {
   "cell_type": "code",
   "execution_count": 29,
   "metadata": {},
   "outputs": [
    {
     "data": {
      "text/plain": [
       "1"
      ]
     },
     "execution_count": 29,
     "metadata": {},
     "output_type": "execute_result"
    }
   ],
   "source": [
    "batch"
   ]
  },
  {
   "cell_type": "code",
   "execution_count": 30,
   "metadata": {},
   "outputs": [
    {
     "data": {
      "text/html": [
       "<div>\n",
       "<style scoped>\n",
       "    .dataframe tbody tr th:only-of-type {\n",
       "        vertical-align: middle;\n",
       "    }\n",
       "\n",
       "    .dataframe tbody tr th {\n",
       "        vertical-align: top;\n",
       "    }\n",
       "\n",
       "    .dataframe thead th {\n",
       "        text-align: right;\n",
       "    }\n",
       "</style>\n",
       "<table border=\"1\" class=\"dataframe\">\n",
       "  <thead>\n",
       "    <tr style=\"text-align: right;\">\n",
       "      <th></th>\n",
       "      <th>all_user</th>\n",
       "      <th>Email</th>\n",
       "      <th>batches</th>\n",
       "      <th>attributes.user.data.id</th>\n",
       "      <th>attributes.user.data.attributes.email</th>\n",
       "    </tr>\n",
       "  </thead>\n",
       "  <tbody>\n",
       "    <tr>\n",
       "      <th>0</th>\n",
       "      <td>23</td>\n",
       "      <td>djeph_sanu@yahoo.fr</td>\n",
       "      <td>1</td>\n",
       "      <td>24</td>\n",
       "      <td>djeph_sanu@yahoo.fr</td>\n",
       "    </tr>\n",
       "  </tbody>\n",
       "</table>\n",
       "</div>"
      ],
      "text/plain": [
       "  all_user                Email  batches attributes.user.data.id  \\\n",
       "0       23  djeph_sanu@yahoo.fr        1                      24   \n",
       "\n",
       "  attributes.user.data.attributes.email  \n",
       "0                   djeph_sanu@yahoo.fr  "
      ]
     },
     "execution_count": 30,
     "metadata": {},
     "output_type": "execute_result"
    }
   ],
   "source": [
    "adf"
   ]
  },
  {
   "cell_type": "code",
   "execution_count": 32,
   "metadata": {},
   "outputs": [
    {
     "data": {
      "text/plain": [
       "'1e9517fe81f735aa8c55b5b13f29f7f5c58bbfb80842f5ad38ae7fd5b8910ce09c460268f1553cd8722cd13dc79173e80d63ff8832dc66dda678bbb56b886ea5a9a7621673f47da0e6a9f8bde0a5d11dc351437b5144f726f1d14cce790514245c77d56ba45224bb0241547978eb109319faf9360b2fd237d66e213f956c9e12'"
      ]
     },
     "execution_count": 32,
     "metadata": {},
     "output_type": "execute_result"
    }
   ],
   "source": [
    "sm.token"
   ]
  },
  {
   "cell_type": "code",
   "execution_count": 34,
   "metadata": {},
   "outputs": [
    {
     "name": "stdout",
     "output_type": "stream",
     "text": [
      "/Users/mahlettaye/review\n",
      "INFO:Total number of newly accepted with trainee  (1, 5)\n",
      "{'all_user': '23', 'email': 'djeph_sanu@yahoo.fr', 'batch': '1', 'trainee_id': '2c166b98-87e3-4791-b42c-750e6f30dbf7', 'Status': 'Accepted'}\n",
      "https://u2jcms.10academy.org/api/trainees\n",
      "{'data': {'id': 1, 'attributes': {'email': 'djeph_sanu@yahoo.fr', 'createdAt': '2024-04-12T15:41:37.582Z', 'updatedAt': '2024-04-12T15:41:37.582Z', 'publishedAt': '2024-04-12T15:41:37.573Z', 'trainee_id': '2c166b98-87e3-4791-b42c-750e6f30dbf7', 'Status': 'Accepted'}}, 'meta': {}}\n",
      "All records have been inserted successfully\n"
     ]
    }
   ],
   "source": [
    "tip.process_for_trainee_submission()"
   ]
  },
  {
   "cell_type": "code",
   "execution_count": null,
   "metadata": {},
   "outputs": [],
   "source": []
  }
 ],
 "metadata": {
  "kernelspec": {
   "display_name": "pjmatch",
   "language": "python",
   "name": "python3"
  },
  "language_info": {
   "codemirror_mode": {
    "name": "ipython",
    "version": 3
   },
   "file_extension": ".py",
   "mimetype": "text/x-python",
   "name": "python",
   "nbconvert_exporter": "python",
   "pygments_lexer": "ipython3",
   "version": "3.9.15"
  },
  "orig_nbformat": 4,
  "vscode": {
   "interpreter": {
    "hash": "366dab72018b3fdb221843b047f27bd0add7ca741825c738abe034e80706e9b2"
   }
  }
 },
 "nbformat": 4,
 "nbformat_minor": 2
}
