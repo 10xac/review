{
 "cells": [
  {
   "cell_type": "code",
   "execution_count": 1,
   "metadata": {},
   "outputs": [],
   "source": [
    "%load_ext autoreload\n",
    "%autoreload 2"
   ]
  },
  {
   "cell_type": "code",
   "execution_count": 2,
   "metadata": {},
   "outputs": [
    {
     "name": "stdout",
     "output_type": "stream",
     "text": [
      "/Users/mahlettaye/review\n"
     ]
    }
   ],
   "source": [
    "import os, sys\n",
    "cpath = os.path.abspath('../')\n",
    "print(cpath)\n",
    "if cpath not in sys.path:\n",
    "    sys.path.insert(0, cpath)\n",
    "os.environ[\"STRAPI_STAGE\"] = \"prod\""
   ]
  },
  {
   "attachments": {},
   "cell_type": "markdown",
   "metadata": {},
   "source": [
    "### For new batch like u2j\n",
    "- Create batch\n",
    "- Create user and allUesr for staff  \n",
    "- Create reviewer \n",
    "- Create group \n",
    "- create preference "
   ]
  },
  {
   "cell_type": "code",
   "execution_count": 3,
   "metadata": {},
   "outputs": [
    {
     "name": "stdout",
     "output_type": "stream",
     "text": [
      "/Users/mahlettaye/review\n",
      "/Users/mahlettaye/review\n",
      "config.py:get_openapi_token:26: get_auth(ssmkey=OPENAI_API_KEY, envvar=openai_apikey, fconfig=.env/openai_apikey.json)\n",
      "Getting tenx/env/vars from existing file /var/folders/dp/57y4rbx55kxdswwsnmzgp_j40000gn/T/tenx_env_vars.json..\n",
      "using STRAPI_STAGE=prod\n",
      "/Users/mahlettaye/review\n"
     ]
    }
   ],
   "source": [
    "from review_scripts.staff_information_processor import StaffInformationProcessor\n",
    "from review_scripts.strapi_methods import StrapiMethods \n",
    "from review_scripts.strapi_graphql import StrapiGraphql\n",
    "from review_scripts.communication_manager import CommunicationManager\n",
    "### Load params \n",
    "from run_configs import u2j_staff_config"
   ]
  },
  {
   "cell_type": "code",
   "execution_count": 4,
   "metadata": {},
   "outputs": [
    {
     "name": "stdout",
     "output_type": "stream",
     "text": [
      "StrapiGraphql run_stage: u2jcms\n",
      "strapi_graphql.py:__init__:35: get_auth(ssmkey=U2J_PROD_STRAPI_TOKEN, envvar=STRAPI_TOKEN, fconfig=/var/folders/dp/57y4rbx55kxdswwsnmzgp_j40000gn/T/u2jcms.json)\n",
      "Getting tenx/env/vars from existing file /var/folders/dp/57y4rbx55kxdswwsnmzgp_j40000gn/T/tenx_env_vars.json..\n",
      "strapi_methods.py:__init__:30: get_auth(ssmkey=TENX_PROD_STRAPI_TOKEN, envvar=STRAPI_TOKEN, fconfig=/var/folders/dp/57y4rbx55kxdswwsnmzgp_j40000gn/T/cms.json)\n",
      "Getting tenx/env/vars from existing file /var/folders/dp/57y4rbx55kxdswwsnmzgp_j40000gn/T/tenx_env_vars.json..\n",
      "StrapiGraphql run_stage: u2jcms\n",
      "strapi_graphql.py:__init__:35: get_auth(ssmkey=U2J_PROD_STRAPI_TOKEN, envvar=STRAPI_TOKEN, fconfig=/var/folders/dp/57y4rbx55kxdswwsnmzgp_j40000gn/T/u2jcms.json)\n",
      "Getting tenx/env/vars from existing file /var/folders/dp/57y4rbx55kxdswwsnmzgp_j40000gn/T/tenx_env_vars.json..\n"
     ]
    }
   ],
   "source": [
    "sg = StrapiGraphql(run_stage=u2j_staff_config.run_stage)\n",
    "sm = StrapiMethods(run_stage=u2j_staff_config.run_stage)\n",
    "cm = CommunicationManager()\n",
    "sip = StaffInformationProcessor()"
   ]
  },
  {
   "attachments": {},
   "cell_type": "markdown",
   "metadata": {},
   "source": [
    "### To create new batch"
   ]
  },
  {
   "cell_type": "code",
   "execution_count": 10,
   "metadata": {},
   "outputs": [
    {
     "data": {
      "text/plain": [
       "{'data': {'createBatch': {'data': {'id': '1'}}}}"
      ]
     },
     "execution_count": 10,
     "metadata": {},
     "output_type": "execute_result"
    }
   ],
   "source": [
    "sip.create_new_batch()"
   ]
  },
  {
   "attachments": {},
   "cell_type": "markdown",
   "metadata": {},
   "source": [
    "### Insert batch specific reviewer to user, all_user, and reviewer tables"
   ]
  },
  {
   "cell_type": "code",
   "execution_count": 5,
   "metadata": {},
   "outputs": [
    {
     "name": "stdout",
     "output_type": "stream",
     "text": [
      "gdrive.py:__init__:99: get_auth(ssmkey=gspread/config, envvar=GSPREAD_CONFIG, fconfig=~/.env/gclass_credentials.json)\n",
      "reading auth from file: /var/folders/dp/57y4rbx55kxdswwsnmzgp_j40000gn/T/gclass_credentials.json ..\n",
      "****** using service account: ~/.env/gclass_credentials.json\n",
      "service account is being used without delegation..\n",
      "------------new_staff_16_04 df.shape=(3, 2)----\n"
     ]
    }
   ],
   "source": [
    "ddf =  sip.get_staff_data()"
   ]
  },
  {
   "cell_type": "code",
   "execution_count": 6,
   "metadata": {},
   "outputs": [
    {
     "data": {
      "text/html": [
       "<div>\n",
       "<style scoped>\n",
       "    .dataframe tbody tr th:only-of-type {\n",
       "        vertical-align: middle;\n",
       "    }\n",
       "\n",
       "    .dataframe tbody tr th {\n",
       "        vertical-align: top;\n",
       "    }\n",
       "\n",
       "    .dataframe thead th {\n",
       "        text-align: right;\n",
       "    }\n",
       "</style>\n",
       "<table border=\"1\" class=\"dataframe\">\n",
       "  <thead>\n",
       "    <tr style=\"text-align: right;\">\n",
       "      <th></th>\n",
       "      <th>Full Name</th>\n",
       "      <th>Email</th>\n",
       "    </tr>\n",
       "  </thead>\n",
       "  <tbody>\n",
       "    <tr>\n",
       "      <th>1</th>\n",
       "      <td>Kerod</td>\n",
       "      <td>kerod@10academy.org</td>\n",
       "    </tr>\n",
       "    <tr>\n",
       "      <th>2</th>\n",
       "      <td>Eyaya</td>\n",
       "      <td>eyaya@10academy.org</td>\n",
       "    </tr>\n",
       "    <tr>\n",
       "      <th>3</th>\n",
       "      <td>Rediet</td>\n",
       "      <td>rediet@10academy.org</td>\n",
       "    </tr>\n",
       "  </tbody>\n",
       "</table>\n",
       "</div>"
      ],
      "text/plain": [
       "  Full Name                 Email\n",
       "1     Kerod   kerod@10academy.org\n",
       "2     Eyaya   eyaya@10academy.org\n",
       "3    Rediet  rediet@10academy.org"
      ]
     },
     "execution_count": 6,
     "metadata": {},
     "output_type": "execute_result"
    }
   ],
   "source": [
    "ddf"
   ]
  },
  {
   "cell_type": "code",
   "execution_count": 7,
   "metadata": {},
   "outputs": [
    {
     "data": {
      "text/plain": [
       "'https://u2jcms.10academy.org/graphql'"
      ]
     },
     "execution_count": 7,
     "metadata": {},
     "output_type": "execute_result"
    }
   ],
   "source": [
    "sip.sg.apiroot"
   ]
  },
  {
   "cell_type": "code",
   "execution_count": 8,
   "metadata": {},
   "outputs": [
    {
     "name": "stdout",
     "output_type": "stream",
     "text": [
      "gdrive.py:__init__:99: get_auth(ssmkey=gspread/config, envvar=GSPREAD_CONFIG, fconfig=~/.env/gclass_credentials.json)\n",
      "reading auth from file: /var/folders/dp/57y4rbx55kxdswwsnmzgp_j40000gn/T/gclass_credentials.json ..\n",
      "****** using service account: ~/.env/gclass_credentials.json\n",
      "service account is being used without delegation..\n",
      "------------new_staff_16_04 df.shape=(3, 2)----\n",
      "passed variables ........... {'username': 'Kerod', 'email': 'kerod@10academy.org'}\n",
      "{'name': 'Kerod', 'email': 'kerod@10academy.org', 'role': 'staff', 'batch': 1, 'userId': '468'}\n",
      "{'data': {'createAllUser': {'data': {'id': '467'}}}}\n",
      "passed variables ........... {'username': 'Eyaya', 'email': 'eyaya@10academy.org'}\n",
      "{'name': 'Eyaya', 'email': 'eyaya@10academy.org', 'role': 'staff', 'batch': 1, 'userId': '469'}\n",
      "{'data': {'createAllUser': {'data': {'id': '468'}}}}\n",
      "passed variables ........... {'username': 'Rediet', 'email': 'rediet@10academy.org'}\n",
      "{'name': 'Rediet', 'email': 'rediet@10academy.org', 'role': 'staff', 'batch': 1, 'userId': '470'}\n",
      "{'data': {'createAllUser': {'data': {'id': '469'}}}}\n",
      "All records are inserted\n"
     ]
    }
   ],
   "source": [
    "sip.insert_staff_all_users()"
   ]
  },
  {
   "cell_type": "code",
   "execution_count": 9,
   "metadata": {},
   "outputs": [],
   "source": [
    "batch = sip.get_batch_id()\n",
    "        # df =self.select_users_from_allusers()"
   ]
  },
  {
   "cell_type": "code",
   "execution_count": 10,
   "metadata": {},
   "outputs": [
    {
     "data": {
      "text/html": [
       "<div>\n",
       "<style scoped>\n",
       "    .dataframe tbody tr th:only-of-type {\n",
       "        vertical-align: middle;\n",
       "    }\n",
       "\n",
       "    .dataframe tbody tr th {\n",
       "        vertical-align: top;\n",
       "    }\n",
       "\n",
       "    .dataframe thead th {\n",
       "        text-align: right;\n",
       "    }\n",
       "</style>\n",
       "<table border=\"1\" class=\"dataframe\">\n",
       "  <thead>\n",
       "    <tr style=\"text-align: right;\">\n",
       "      <th></th>\n",
       "      <th>all_user</th>\n",
       "      <th>Email</th>\n",
       "      <th>batches</th>\n",
       "      <th>attributes.user.data.id</th>\n",
       "      <th>attributes.user.data.attributes.email</th>\n",
       "    </tr>\n",
       "  </thead>\n",
       "  <tbody>\n",
       "    <tr>\n",
       "      <th>0</th>\n",
       "      <td>1</td>\n",
       "      <td>emtinan@10academy.org</td>\n",
       "      <td>1</td>\n",
       "      <td>1</td>\n",
       "      <td>emtinan@10academy.org</td>\n",
       "    </tr>\n",
       "    <tr>\n",
       "      <th>1</th>\n",
       "      <td>2</td>\n",
       "      <td>ryfgmz87@gmail.com</td>\n",
       "      <td>1</td>\n",
       "      <td>2</td>\n",
       "      <td>ryfgmz87@gmail.com</td>\n",
       "    </tr>\n",
       "    <tr>\n",
       "      <th>2</th>\n",
       "      <td>3</td>\n",
       "      <td>pascaline@10academy.org</td>\n",
       "      <td>1</td>\n",
       "      <td>3</td>\n",
       "      <td>pascaline@10academy.org</td>\n",
       "    </tr>\n",
       "    <tr>\n",
       "      <th>3</th>\n",
       "      <td>4</td>\n",
       "      <td>abel@10academy.org</td>\n",
       "      <td>1</td>\n",
       "      <td>4</td>\n",
       "      <td>abel@10academy.org</td>\n",
       "    </tr>\n",
       "    <tr>\n",
       "      <th>4</th>\n",
       "      <td>5</td>\n",
       "      <td>guday@10academy.org</td>\n",
       "      <td>1</td>\n",
       "      <td>5</td>\n",
       "      <td>guday@10academy.org</td>\n",
       "    </tr>\n",
       "    <tr>\n",
       "      <th>5</th>\n",
       "      <td>6</td>\n",
       "      <td>rodas@10academy.org</td>\n",
       "      <td>1</td>\n",
       "      <td>6</td>\n",
       "      <td>rodas@10academy.org</td>\n",
       "    </tr>\n",
       "    <tr>\n",
       "      <th>6</th>\n",
       "      <td>7</td>\n",
       "      <td>ekram@10academy.org</td>\n",
       "      <td>1</td>\n",
       "      <td>7</td>\n",
       "      <td>ekram@10academy.org</td>\n",
       "    </tr>\n",
       "    <tr>\n",
       "      <th>7</th>\n",
       "      <td>8</td>\n",
       "      <td>miliyon@10academy.org</td>\n",
       "      <td>1</td>\n",
       "      <td>8</td>\n",
       "      <td>miliyon@10academy.org</td>\n",
       "    </tr>\n",
       "    <tr>\n",
       "      <th>8</th>\n",
       "      <td>9</td>\n",
       "      <td>natnael@10academy.org</td>\n",
       "      <td>1</td>\n",
       "      <td>9</td>\n",
       "      <td>natnael@10academy.org</td>\n",
       "    </tr>\n",
       "    <tr>\n",
       "      <th>9</th>\n",
       "      <td>10</td>\n",
       "      <td>maryam@10academy.org</td>\n",
       "      <td>1</td>\n",
       "      <td>10</td>\n",
       "      <td>maryam@10academy.org</td>\n",
       "    </tr>\n",
       "    <tr>\n",
       "      <th>10</th>\n",
       "      <td>11</td>\n",
       "      <td>margaret@10academy.org</td>\n",
       "      <td>1</td>\n",
       "      <td>11</td>\n",
       "      <td>margaret@10academy.org</td>\n",
       "    </tr>\n",
       "    <tr>\n",
       "      <th>11</th>\n",
       "      <td>12</td>\n",
       "      <td>belay@10academy.org</td>\n",
       "      <td>1</td>\n",
       "      <td>12</td>\n",
       "      <td>belay@10academy.org</td>\n",
       "    </tr>\n",
       "    <tr>\n",
       "      <th>12</th>\n",
       "      <td>13</td>\n",
       "      <td>fikerte@10academy.org</td>\n",
       "      <td>1</td>\n",
       "      <td>13</td>\n",
       "      <td>fikerte@10academy.org</td>\n",
       "    </tr>\n",
       "    <tr>\n",
       "      <th>13</th>\n",
       "      <td>14</td>\n",
       "      <td>yabebal@10academy.org</td>\n",
       "      <td>1</td>\n",
       "      <td>14</td>\n",
       "      <td>yabebal@10academy.org</td>\n",
       "    </tr>\n",
       "    <tr>\n",
       "      <th>14</th>\n",
       "      <td>15</td>\n",
       "      <td>bereket@10academy.org</td>\n",
       "      <td>1</td>\n",
       "      <td>15</td>\n",
       "      <td>bereket@10academy.org</td>\n",
       "    </tr>\n",
       "    <tr>\n",
       "      <th>15</th>\n",
       "      <td>16</td>\n",
       "      <td>mahlet@10academy.org</td>\n",
       "      <td>1</td>\n",
       "      <td>16</td>\n",
       "      <td>mahlet@10academy.org</td>\n",
       "    </tr>\n",
       "    <tr>\n",
       "      <th>16</th>\n",
       "      <td>17</td>\n",
       "      <td>arun@10academy.org</td>\n",
       "      <td>1</td>\n",
       "      <td>17</td>\n",
       "      <td>arun@10academy.org</td>\n",
       "    </tr>\n",
       "    <tr>\n",
       "      <th>17</th>\n",
       "      <td>18</td>\n",
       "      <td>emilien@10academy.org</td>\n",
       "      <td>1</td>\n",
       "      <td>18</td>\n",
       "      <td>emilien@10academy.org</td>\n",
       "    </tr>\n",
       "    <tr>\n",
       "      <th>18</th>\n",
       "      <td>19</td>\n",
       "      <td>semere@10academy.org</td>\n",
       "      <td>1</td>\n",
       "      <td>19</td>\n",
       "      <td>semere@10academy.org</td>\n",
       "    </tr>\n",
       "    <tr>\n",
       "      <th>19</th>\n",
       "      <td>20</td>\n",
       "      <td>tins@10academy.org</td>\n",
       "      <td>1</td>\n",
       "      <td>20</td>\n",
       "      <td>tins@10academy.org</td>\n",
       "    </tr>\n",
       "    <tr>\n",
       "      <th>20</th>\n",
       "      <td>21</td>\n",
       "      <td>tirhas@10academy.org</td>\n",
       "      <td>1</td>\n",
       "      <td>21</td>\n",
       "      <td>tirhas@10academy.org</td>\n",
       "    </tr>\n",
       "    <tr>\n",
       "      <th>21</th>\n",
       "      <td>22</td>\n",
       "      <td>zaid@10academy.org</td>\n",
       "      <td>1</td>\n",
       "      <td>22</td>\n",
       "      <td>zaid@10academy.org</td>\n",
       "    </tr>\n",
       "    <tr>\n",
       "      <th>22</th>\n",
       "      <td>466</td>\n",
       "      <td>makida@10academy.org</td>\n",
       "      <td>1</td>\n",
       "      <td>467</td>\n",
       "      <td>makida@10academy.org</td>\n",
       "    </tr>\n",
       "    <tr>\n",
       "      <th>23</th>\n",
       "      <td>467</td>\n",
       "      <td>kerod@10academy.org</td>\n",
       "      <td>1</td>\n",
       "      <td>468</td>\n",
       "      <td>kerod@10academy.org</td>\n",
       "    </tr>\n",
       "    <tr>\n",
       "      <th>24</th>\n",
       "      <td>468</td>\n",
       "      <td>eyaya@10academy.org</td>\n",
       "      <td>1</td>\n",
       "      <td>469</td>\n",
       "      <td>eyaya@10academy.org</td>\n",
       "    </tr>\n",
       "    <tr>\n",
       "      <th>25</th>\n",
       "      <td>469</td>\n",
       "      <td>rediet@10academy.org</td>\n",
       "      <td>1</td>\n",
       "      <td>470</td>\n",
       "      <td>rediet@10academy.org</td>\n",
       "    </tr>\n",
       "  </tbody>\n",
       "</table>\n",
       "</div>"
      ],
      "text/plain": [
       "   all_user                    Email  batches attributes.user.data.id  \\\n",
       "0         1    emtinan@10academy.org        1                       1   \n",
       "1         2       ryfgmz87@gmail.com        1                       2   \n",
       "2         3  pascaline@10academy.org        1                       3   \n",
       "3         4       abel@10academy.org        1                       4   \n",
       "4         5      guday@10academy.org        1                       5   \n",
       "5         6      rodas@10academy.org        1                       6   \n",
       "6         7      ekram@10academy.org        1                       7   \n",
       "7         8    miliyon@10academy.org        1                       8   \n",
       "8         9    natnael@10academy.org        1                       9   \n",
       "9        10     maryam@10academy.org        1                      10   \n",
       "10       11   margaret@10academy.org        1                      11   \n",
       "11       12      belay@10academy.org        1                      12   \n",
       "12       13    fikerte@10academy.org        1                      13   \n",
       "13       14    yabebal@10academy.org        1                      14   \n",
       "14       15    bereket@10academy.org        1                      15   \n",
       "15       16     mahlet@10academy.org        1                      16   \n",
       "16       17       arun@10academy.org        1                      17   \n",
       "17       18    emilien@10academy.org        1                      18   \n",
       "18       19     semere@10academy.org        1                      19   \n",
       "19       20       tins@10academy.org        1                      20   \n",
       "20       21     tirhas@10academy.org        1                      21   \n",
       "21       22       zaid@10academy.org        1                      22   \n",
       "22      466     makida@10academy.org        1                     467   \n",
       "23      467      kerod@10academy.org        1                     468   \n",
       "24      468      eyaya@10academy.org        1                     469   \n",
       "25      469     rediet@10academy.org        1                     470   \n",
       "\n",
       "   attributes.user.data.attributes.email  \n",
       "0                  emtinan@10academy.org  \n",
       "1                     ryfgmz87@gmail.com  \n",
       "2                pascaline@10academy.org  \n",
       "3                     abel@10academy.org  \n",
       "4                    guday@10academy.org  \n",
       "5                    rodas@10academy.org  \n",
       "6                    ekram@10academy.org  \n",
       "7                  miliyon@10academy.org  \n",
       "8                  natnael@10academy.org  \n",
       "9                   maryam@10academy.org  \n",
       "10                margaret@10academy.org  \n",
       "11                   belay@10academy.org  \n",
       "12                 fikerte@10academy.org  \n",
       "13                 yabebal@10academy.org  \n",
       "14                 bereket@10academy.org  \n",
       "15                  mahlet@10academy.org  \n",
       "16                    arun@10academy.org  \n",
       "17                 emilien@10academy.org  \n",
       "18                  semere@10academy.org  \n",
       "19                    tins@10academy.org  \n",
       "20                  tirhas@10academy.org  \n",
       "21                    zaid@10academy.org  \n",
       "22                  makida@10academy.org  \n",
       "23                   kerod@10academy.org  \n",
       "24                   eyaya@10academy.org  \n",
       "25                  rediet@10academy.org  "
      ]
     },
     "execution_count": 10,
     "metadata": {},
     "output_type": "execute_result"
    }
   ],
   "source": [
    "df =sip.select_users_from_allusers()\n",
    "df"
   ]
  },
  {
   "cell_type": "code",
   "execution_count": 11,
   "metadata": {},
   "outputs": [],
   "source": [
    "### exclude infromation that are not in ddf from df based on email\n",
    "dfx = df[df['Email'].isin(ddf['Email'])]\n"
   ]
  },
  {
   "cell_type": "code",
   "execution_count": 12,
   "metadata": {},
   "outputs": [
    {
     "data": {
      "text/html": [
       "<div>\n",
       "<style scoped>\n",
       "    .dataframe tbody tr th:only-of-type {\n",
       "        vertical-align: middle;\n",
       "    }\n",
       "\n",
       "    .dataframe tbody tr th {\n",
       "        vertical-align: top;\n",
       "    }\n",
       "\n",
       "    .dataframe thead th {\n",
       "        text-align: right;\n",
       "    }\n",
       "</style>\n",
       "<table border=\"1\" class=\"dataframe\">\n",
       "  <thead>\n",
       "    <tr style=\"text-align: right;\">\n",
       "      <th></th>\n",
       "      <th>all_user</th>\n",
       "      <th>Email</th>\n",
       "      <th>batches</th>\n",
       "      <th>attributes.user.data.id</th>\n",
       "      <th>attributes.user.data.attributes.email</th>\n",
       "    </tr>\n",
       "  </thead>\n",
       "  <tbody>\n",
       "    <tr>\n",
       "      <th>23</th>\n",
       "      <td>467</td>\n",
       "      <td>kerod@10academy.org</td>\n",
       "      <td>1</td>\n",
       "      <td>468</td>\n",
       "      <td>kerod@10academy.org</td>\n",
       "    </tr>\n",
       "    <tr>\n",
       "      <th>24</th>\n",
       "      <td>468</td>\n",
       "      <td>eyaya@10academy.org</td>\n",
       "      <td>1</td>\n",
       "      <td>469</td>\n",
       "      <td>eyaya@10academy.org</td>\n",
       "    </tr>\n",
       "    <tr>\n",
       "      <th>25</th>\n",
       "      <td>469</td>\n",
       "      <td>rediet@10academy.org</td>\n",
       "      <td>1</td>\n",
       "      <td>470</td>\n",
       "      <td>rediet@10academy.org</td>\n",
       "    </tr>\n",
       "  </tbody>\n",
       "</table>\n",
       "</div>"
      ],
      "text/plain": [
       "   all_user                 Email  batches attributes.user.data.id  \\\n",
       "23      467   kerod@10academy.org        1                     468   \n",
       "24      468   eyaya@10academy.org        1                     469   \n",
       "25      469  rediet@10academy.org        1                     470   \n",
       "\n",
       "   attributes.user.data.attributes.email  \n",
       "23                   kerod@10academy.org  \n",
       "24                   eyaya@10academy.org  \n",
       "25                  rediet@10academy.org  "
      ]
     },
     "execution_count": 12,
     "metadata": {},
     "output_type": "execute_result"
    }
   ],
   "source": [
    "dfx"
   ]
  },
  {
   "cell_type": "code",
   "execution_count": 13,
   "metadata": {},
   "outputs": [
    {
     "name": "stdout",
     "output_type": "stream",
     "text": [
      "gdrive.py:__init__:99: get_auth(ssmkey=gspread/config, envvar=GSPREAD_CONFIG, fconfig=~/.env/gclass_credentials.json)\n",
      "reading auth from file: /var/folders/dp/57y4rbx55kxdswwsnmzgp_j40000gn/T/gclass_credentials.json ..\n",
      "****** using service account: ~/.env/gclass_credentials.json\n",
      "service account is being used without delegation..\n",
      "------------new_staff_16_04 df.shape=(3, 2)----\n",
      "{'data': {'createReviewer': {'data': {'id': '24', 'attributes': {'Email': 'kerod@10academy.org'}}}}}\n",
      "{'data': {'createReviewer': {'data': {'id': '25', 'attributes': {'Email': 'eyaya@10academy.org'}}}}}\n",
      "{'data': {'createReviewer': {'data': {'id': '26', 'attributes': {'Email': 'rediet@10academy.org'}}}}}\n",
      "All records are inserted\n"
     ]
    }
   ],
   "source": [
    "sip.insert_reviewers()"
   ]
  },
  {
   "attachments": {},
   "cell_type": "markdown",
   "metadata": {},
   "source": [
    "### If It is new instance create Staff group"
   ]
  },
  {
   "cell_type": "code",
   "execution_count": 20,
   "metadata": {},
   "outputs": [
    {
     "name": "stdout",
     "output_type": "stream",
     "text": [
      "/Users/mahlettaye/review\n",
      "{'data': {'createGroup': {'data': {'id': '1'}}}}\n"
     ]
    }
   ],
   "source": [
    "### !!!!!!!!Don't run as it is check for the default value!!!!!!!!!!!!!!!!\n",
    "sip.create_group_for_staff()"
   ]
  },
  {
   "attachments": {},
   "cell_type": "markdown",
   "metadata": {},
   "source": [
    "### Create Prefeerence "
   ]
  },
  {
   "cell_type": "code",
   "execution_count": 14,
   "metadata": {},
   "outputs": [
    {
     "name": "stdout",
     "output_type": "stream",
     "text": [
      "gdrive.py:__init__:99: get_auth(ssmkey=gspread/config, envvar=GSPREAD_CONFIG, fconfig=~/.env/gclass_credentials.json)\n",
      "reading auth from file: /var/folders/dp/57y4rbx55kxdswwsnmzgp_j40000gn/T/gclass_credentials.json ..\n",
      "****** using service account: ~/.env/gclass_credentials.json\n",
      "service account is being used without delegation..\n",
      "------------new_staff_16_04 df.shape=(3, 2)----\n",
      "{'data': {'createPreference': {'data': {'id': '24'}}}}\n",
      "{'data': {'createPreference': {'data': {'id': '25'}}}}\n",
      "{'data': {'createPreference': {'data': {'id': '26'}}}}\n"
     ]
    }
   ],
   "source": [
    "sip.insert_user_preference()"
   ]
  },
  {
   "cell_type": "code",
   "execution_count": null,
   "metadata": {},
   "outputs": [],
   "source": [
    "#### While inserting Reviewer change the default value on user table role from trainee to staff"
   ]
  }
 ],
 "metadata": {
  "kernelspec": {
   "display_name": "pjmatch",
   "language": "python",
   "name": "python3"
  },
  "language_info": {
   "codemirror_mode": {
    "name": "ipython",
    "version": 3
   },
   "file_extension": ".py",
   "mimetype": "text/x-python",
   "name": "python",
   "nbconvert_exporter": "python",
   "pygments_lexer": "ipython3",
   "version": "3.9.15"
  },
  "orig_nbformat": 4,
  "vscode": {
   "interpreter": {
    "hash": "366dab72018b3fdb221843b047f27bd0add7ca741825c738abe034e80706e9b2"
   }
  }
 },
 "nbformat": 4,
 "nbformat_minor": 2
}
