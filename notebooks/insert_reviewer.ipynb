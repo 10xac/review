{
 "cells": [
  {
   "cell_type": "code",
   "execution_count": 1,
   "metadata": {},
   "outputs": [],
   "source": [
    "%load_ext autoreload\n",
    "%autoreload 2"
   ]
  },
  {
   "cell_type": "code",
   "execution_count": 2,
   "metadata": {},
   "outputs": [
    {
     "name": "stdout",
     "output_type": "stream",
     "text": [
      "/Users/mahlettaye/review\n"
     ]
    }
   ],
   "source": [
    "import os, sys\n",
    "cpath = os.path.abspath('../')\n",
    "print(cpath)\n",
    "if cpath not in sys.path:\n",
    "    sys.path.insert(0, cpath)\n",
    "os.environ[\"STRAPI_STAGE\"] = \"prod\""
   ]
  },
  {
   "attachments": {},
   "cell_type": "markdown",
   "metadata": {},
   "source": [
    "### For new batch like u2j\n",
    "- Create batch\n",
    "- Create user and allUesr for staff  \n",
    "- Create reviewer \n",
    "- Create group \n",
    "- create preference "
   ]
  },
  {
   "cell_type": "code",
   "execution_count": 3,
   "metadata": {},
   "outputs": [
    {
     "name": "stdout",
     "output_type": "stream",
     "text": [
      "/Users/mahlettaye/review\n",
      "/Users/mahlettaye/review\n",
      "config.py:get_openapi_token:26: get_auth(ssmkey=OPENAI_API_KEY, envvar=openai_apikey, fconfig=.env/openai_apikey.json)\n",
      "Getting tenx/env/vars from existing file /var/folders/dp/57y4rbx55kxdswwsnmzgp_j40000gn/T/tenx_env_vars.json..\n",
      "using STRAPI_STAGE=prod\n",
      "/Users/mahlettaye/review\n"
     ]
    }
   ],
   "source": [
    "from review_scripts.staff_information_processor import StaffInformationProcessor\n",
    "from review_scripts.strapi_methods import StrapiMethods \n",
    "from review_scripts.strapi_graphql import StrapiGraphql\n",
    "from review_scripts.communication_manager import CommunicationManager\n",
    "### Load params \n",
    "from run_configs import u2j_staff_config"
   ]
  },
  {
   "cell_type": "code",
   "execution_count": 4,
   "metadata": {},
   "outputs": [
    {
     "name": "stdout",
     "output_type": "stream",
     "text": [
      "StrapiGraphql run_stage: prod\n",
      "strapi_graphql.py:__init__:35: get_auth(ssmkey=TENX_PROD_STRAPI_TOKEN, envvar=STRAPI_TOKEN, fconfig=/var/folders/dp/57y4rbx55kxdswwsnmzgp_j40000gn/T/cms.json)\n",
      "Getting tenx/env/vars from existing file /var/folders/dp/57y4rbx55kxdswwsnmzgp_j40000gn/T/tenx_env_vars.json..\n",
      "strapi_methods.py:__init__:30: get_auth(ssmkey=TENX_PROD_STRAPI_TOKEN, envvar=STRAPI_TOKEN, fconfig=/var/folders/dp/57y4rbx55kxdswwsnmzgp_j40000gn/T/cms.json)\n",
      "Getting tenx/env/vars from existing file /var/folders/dp/57y4rbx55kxdswwsnmzgp_j40000gn/T/tenx_env_vars.json..\n",
      "StrapiGraphql run_stage: prod\n",
      "strapi_graphql.py:__init__:35: get_auth(ssmkey=TENX_PROD_STRAPI_TOKEN, envvar=STRAPI_TOKEN, fconfig=/var/folders/dp/57y4rbx55kxdswwsnmzgp_j40000gn/T/cms.json)\n",
      "Getting tenx/env/vars from existing file /var/folders/dp/57y4rbx55kxdswwsnmzgp_j40000gn/T/tenx_env_vars.json..\n"
     ]
    }
   ],
   "source": [
    "sg = StrapiGraphql(run_stage=u2j_staff_config.run_stage)\n",
    "sm = StrapiMethods(run_stage=u2j_staff_config.run_stage)\n",
    "cm = CommunicationManager()\n",
    "sip = StaffInformationProcessor()"
   ]
  },
  {
   "attachments": {},
   "cell_type": "markdown",
   "metadata": {},
   "source": [
    "### To create new batch"
   ]
  },
  {
   "cell_type": "code",
   "execution_count": 10,
   "metadata": {},
   "outputs": [
    {
     "data": {
      "text/plain": [
       "{'data': {'createBatch': {'data': {'id': '1'}}}}"
      ]
     },
     "execution_count": 10,
     "metadata": {},
     "output_type": "execute_result"
    }
   ],
   "source": [
    "sip.create_new_batch()"
   ]
  },
  {
   "attachments": {},
   "cell_type": "markdown",
   "metadata": {},
   "source": [
    "### Insert batch specific reviewer to user, all_user, and reviewer tables"
   ]
  },
  {
   "cell_type": "code",
   "execution_count": 5,
   "metadata": {},
   "outputs": [
    {
     "name": "stdout",
     "output_type": "stream",
     "text": [
      "gdrive.py:__init__:99: get_auth(ssmkey=gspread/config, envvar=GSPREAD_CONFIG, fconfig=~/.env/gclass_credentials.json)\n",
      "reading auth from file: /var/folders/dp/57y4rbx55kxdswwsnmzgp_j40000gn/T/gclass_credentials.json ..\n",
      "****** using service account: ~/.env/gclass_credentials.json\n",
      "service account is being used without delegation..\n",
      "------------new_staff_16_04 df.shape=(4, 2)----\n"
     ]
    }
   ],
   "source": [
    "ddf =  sip.get_staff_data()"
   ]
  },
  {
   "cell_type": "code",
   "execution_count": 6,
   "metadata": {},
   "outputs": [
    {
     "data": {
      "text/html": [
       "<div>\n",
       "<style scoped>\n",
       "    .dataframe tbody tr th:only-of-type {\n",
       "        vertical-align: middle;\n",
       "    }\n",
       "\n",
       "    .dataframe tbody tr th {\n",
       "        vertical-align: top;\n",
       "    }\n",
       "\n",
       "    .dataframe thead th {\n",
       "        text-align: right;\n",
       "    }\n",
       "</style>\n",
       "<table border=\"1\" class=\"dataframe\">\n",
       "  <thead>\n",
       "    <tr style=\"text-align: right;\">\n",
       "      <th></th>\n",
       "      <th>Full Name</th>\n",
       "      <th>Email</th>\n",
       "    </tr>\n",
       "  </thead>\n",
       "  <tbody>\n",
       "    <tr>\n",
       "      <th>1</th>\n",
       "      <td>Kerod</td>\n",
       "      <td>kerod@10academy.org</td>\n",
       "    </tr>\n",
       "    <tr>\n",
       "      <th>2</th>\n",
       "      <td>Eyaya</td>\n",
       "      <td>eyaya@10academy.org</td>\n",
       "    </tr>\n",
       "    <tr>\n",
       "      <th>3</th>\n",
       "      <td>Rediet</td>\n",
       "      <td>rediet@10academy.org</td>\n",
       "    </tr>\n",
       "    <tr>\n",
       "      <th>4</th>\n",
       "      <td>Makida Shimeles</td>\n",
       "      <td>makida@10academy.org</td>\n",
       "    </tr>\n",
       "  </tbody>\n",
       "</table>\n",
       "</div>"
      ],
      "text/plain": [
       "         Full Name                 Email\n",
       "1            Kerod   kerod@10academy.org\n",
       "2            Eyaya   eyaya@10academy.org\n",
       "3           Rediet  rediet@10academy.org\n",
       "4  Makida Shimeles  makida@10academy.org"
      ]
     },
     "execution_count": 6,
     "metadata": {},
     "output_type": "execute_result"
    }
   ],
   "source": [
    "ddf"
   ]
  },
  {
   "cell_type": "code",
   "execution_count": 7,
   "metadata": {},
   "outputs": [
    {
     "name": "stdout",
     "output_type": "stream",
     "text": [
      "gdrive.py:__init__:99: get_auth(ssmkey=gspread/config, envvar=GSPREAD_CONFIG, fconfig=~/.env/gclass_credentials.json)\n",
      "reading auth from file: /var/folders/dp/57y4rbx55kxdswwsnmzgp_j40000gn/T/gclass_credentials.json ..\n",
      "****** using service account: ~/.env/gclass_credentials.json\n",
      "service account is being used without delegation..\n",
      "------------new_staff_16_04 df.shape=(4, 2)----\n",
      "passed variables ........... {'username': 'Kerod', 'email': 'kerod@10academy.org'}\n",
      "{'name': 'Kerod', 'email': 'kerod@10academy.org', 'role': 'staff', 'batch': 8, 'userId': '777'}\n",
      "{'data': {'createAllUser': {'data': {'id': '2256'}}}}\n",
      "passed variables ........... {'username': 'Eyaya', 'email': 'eyaya@10academy.org'}\n",
      "{'name': 'Eyaya', 'email': 'eyaya@10academy.org', 'role': 'staff', 'batch': 8, 'userId': '778'}\n",
      "{'data': {'createAllUser': {'data': {'id': '2257'}}}}\n",
      "passed variables ........... {'username': 'Rediet', 'email': 'rediet@10academy.org'}\n",
      "{'name': 'Rediet', 'email': 'rediet@10academy.org', 'role': 'staff', 'batch': 8, 'userId': '779'}\n",
      "{'data': {'createAllUser': {'data': {'id': '2258'}}}}\n",
      "passed variables ........... {'username': 'Makida Shimeles', 'email': 'makida@10academy.org'}\n",
      "{'name': 'Makida Shimeles', 'email': 'makida@10academy.org', 'role': 'staff', 'batch': 8, 'userId': '780'}\n",
      "{'data': {'createAllUser': {'data': {'id': '2259'}}}}\n",
      "All records are inserted\n"
     ]
    }
   ],
   "source": [
    "sip.insert_staff_all_users()"
   ]
  },
  {
   "cell_type": "code",
   "execution_count": 8,
   "metadata": {},
   "outputs": [],
   "source": [
    "batch = sip.get_batch_id()\n",
    "        # df =self.select_users_from_allusers()"
   ]
  },
  {
   "cell_type": "code",
   "execution_count": 9,
   "metadata": {},
   "outputs": [
    {
     "data": {
      "text/html": [
       "<div>\n",
       "<style scoped>\n",
       "    .dataframe tbody tr th:only-of-type {\n",
       "        vertical-align: middle;\n",
       "    }\n",
       "\n",
       "    .dataframe tbody tr th {\n",
       "        vertical-align: top;\n",
       "    }\n",
       "\n",
       "    .dataframe thead th {\n",
       "        text-align: right;\n",
       "    }\n",
       "</style>\n",
       "<table border=\"1\" class=\"dataframe\">\n",
       "  <thead>\n",
       "    <tr style=\"text-align: right;\">\n",
       "      <th></th>\n",
       "      <th>all_user</th>\n",
       "      <th>Email</th>\n",
       "      <th>batches</th>\n",
       "      <th>attributes.user.data.id</th>\n",
       "      <th>attributes.user.data.attributes.email</th>\n",
       "    </tr>\n",
       "  </thead>\n",
       "  <tbody>\n",
       "    <tr>\n",
       "      <th>0</th>\n",
       "      <td>2256</td>\n",
       "      <td>kerod@10academy.org</td>\n",
       "      <td>8</td>\n",
       "      <td>777</td>\n",
       "      <td>kerod@10academy.org</td>\n",
       "    </tr>\n",
       "    <tr>\n",
       "      <th>1</th>\n",
       "      <td>2257</td>\n",
       "      <td>eyaya@10academy.org</td>\n",
       "      <td>8</td>\n",
       "      <td>778</td>\n",
       "      <td>eyaya@10academy.org</td>\n",
       "    </tr>\n",
       "    <tr>\n",
       "      <th>2</th>\n",
       "      <td>2253</td>\n",
       "      <td>natnael@10academy.org</td>\n",
       "      <td>8</td>\n",
       "      <td>774</td>\n",
       "      <td>natnael@10academy.org</td>\n",
       "    </tr>\n",
       "    <tr>\n",
       "      <th>3</th>\n",
       "      <td>2254</td>\n",
       "      <td>maryam@10academy.org</td>\n",
       "      <td>8</td>\n",
       "      <td>775</td>\n",
       "      <td>maryam@10academy.org</td>\n",
       "    </tr>\n",
       "    <tr>\n",
       "      <th>4</th>\n",
       "      <td>2255</td>\n",
       "      <td>margaret@10academy.org</td>\n",
       "      <td>8</td>\n",
       "      <td>776</td>\n",
       "      <td>margaret@10academy.org</td>\n",
       "    </tr>\n",
       "    <tr>\n",
       "      <th>5</th>\n",
       "      <td>2258</td>\n",
       "      <td>rediet@10academy.org</td>\n",
       "      <td>8</td>\n",
       "      <td>779</td>\n",
       "      <td>rediet@10academy.org</td>\n",
       "    </tr>\n",
       "    <tr>\n",
       "      <th>6</th>\n",
       "      <td>2259</td>\n",
       "      <td>makida@10academy.org</td>\n",
       "      <td>8</td>\n",
       "      <td>780</td>\n",
       "      <td>makida@10academy.org</td>\n",
       "    </tr>\n",
       "  </tbody>\n",
       "</table>\n",
       "</div>"
      ],
      "text/plain": [
       "  all_user                   Email  batches attributes.user.data.id  \\\n",
       "0     2256     kerod@10academy.org        8                     777   \n",
       "1     2257     eyaya@10academy.org        8                     778   \n",
       "2     2253   natnael@10academy.org        8                     774   \n",
       "3     2254    maryam@10academy.org        8                     775   \n",
       "4     2255  margaret@10academy.org        8                     776   \n",
       "5     2258    rediet@10academy.org        8                     779   \n",
       "6     2259    makida@10academy.org        8                     780   \n",
       "\n",
       "  attributes.user.data.attributes.email  \n",
       "0                   kerod@10academy.org  \n",
       "1                   eyaya@10academy.org  \n",
       "2                 natnael@10academy.org  \n",
       "3                  maryam@10academy.org  \n",
       "4                margaret@10academy.org  \n",
       "5                  rediet@10academy.org  \n",
       "6                  makida@10academy.org  "
      ]
     },
     "execution_count": 9,
     "metadata": {},
     "output_type": "execute_result"
    }
   ],
   "source": [
    "df =sip.select_users_from_allusers()\n",
    "df"
   ]
  },
  {
   "cell_type": "code",
   "execution_count": 13,
   "metadata": {},
   "outputs": [],
   "source": [
    "### exclude infromation that are not in ddf from df based on email\n",
    "dfx = df[df['Email'].isin(ddf['Email'])]\n"
   ]
  },
  {
   "cell_type": "code",
   "execution_count": 14,
   "metadata": {},
   "outputs": [
    {
     "data": {
      "text/html": [
       "<div>\n",
       "<style scoped>\n",
       "    .dataframe tbody tr th:only-of-type {\n",
       "        vertical-align: middle;\n",
       "    }\n",
       "\n",
       "    .dataframe tbody tr th {\n",
       "        vertical-align: top;\n",
       "    }\n",
       "\n",
       "    .dataframe thead th {\n",
       "        text-align: right;\n",
       "    }\n",
       "</style>\n",
       "<table border=\"1\" class=\"dataframe\">\n",
       "  <thead>\n",
       "    <tr style=\"text-align: right;\">\n",
       "      <th></th>\n",
       "      <th>all_user</th>\n",
       "      <th>Email</th>\n",
       "      <th>batches</th>\n",
       "      <th>attributes.user.data.id</th>\n",
       "      <th>attributes.user.data.attributes.email</th>\n",
       "    </tr>\n",
       "  </thead>\n",
       "  <tbody>\n",
       "    <tr>\n",
       "      <th>0</th>\n",
       "      <td>2256</td>\n",
       "      <td>kerod@10academy.org</td>\n",
       "      <td>8</td>\n",
       "      <td>777</td>\n",
       "      <td>kerod@10academy.org</td>\n",
       "    </tr>\n",
       "    <tr>\n",
       "      <th>1</th>\n",
       "      <td>2257</td>\n",
       "      <td>eyaya@10academy.org</td>\n",
       "      <td>8</td>\n",
       "      <td>778</td>\n",
       "      <td>eyaya@10academy.org</td>\n",
       "    </tr>\n",
       "    <tr>\n",
       "      <th>5</th>\n",
       "      <td>2258</td>\n",
       "      <td>rediet@10academy.org</td>\n",
       "      <td>8</td>\n",
       "      <td>779</td>\n",
       "      <td>rediet@10academy.org</td>\n",
       "    </tr>\n",
       "    <tr>\n",
       "      <th>6</th>\n",
       "      <td>2259</td>\n",
       "      <td>makida@10academy.org</td>\n",
       "      <td>8</td>\n",
       "      <td>780</td>\n",
       "      <td>makida@10academy.org</td>\n",
       "    </tr>\n",
       "  </tbody>\n",
       "</table>\n",
       "</div>"
      ],
      "text/plain": [
       "  all_user                 Email  batches attributes.user.data.id  \\\n",
       "0     2256   kerod@10academy.org        8                     777   \n",
       "1     2257   eyaya@10academy.org        8                     778   \n",
       "5     2258  rediet@10academy.org        8                     779   \n",
       "6     2259  makida@10academy.org        8                     780   \n",
       "\n",
       "  attributes.user.data.attributes.email  \n",
       "0                   kerod@10academy.org  \n",
       "1                   eyaya@10academy.org  \n",
       "5                  rediet@10academy.org  \n",
       "6                  makida@10academy.org  "
      ]
     },
     "execution_count": 14,
     "metadata": {},
     "output_type": "execute_result"
    }
   ],
   "source": [
    "dfx"
   ]
  },
  {
   "cell_type": "code",
   "execution_count": 15,
   "metadata": {},
   "outputs": [
    {
     "name": "stdout",
     "output_type": "stream",
     "text": [
      "/Users/mahlettaye/review\n",
      "gdrive.py:__init__:99: get_auth(ssmkey=gspread/config, envvar=GSPREAD_CONFIG, fconfig=~/.env/gclass_credentials.json)\n",
      "reading auth from file: /var/folders/dp/57y4rbx55kxdswwsnmzgp_j40000gn/T/gclass_credentials.json ..\n",
      "****** using service account: ~/.env/gclass_credentials.json\n",
      "service account is being used without delegation..\n",
      "------------new_staff_16_04 df.shape=(4, 2)----\n",
      "{'data': {'createReviewer': {'data': {'id': '185', 'attributes': {'Email': 'kerod@10academy.org'}}}}}\n",
      "{'data': {'createReviewer': {'data': {'id': '186', 'attributes': {'Email': 'eyaya@10academy.org'}}}}}\n",
      "{'data': {'createReviewer': {'data': {'id': '187', 'attributes': {'Email': 'rediet@10academy.org'}}}}}\n",
      "{'data': {'createReviewer': {'data': {'id': '188', 'attributes': {'Email': 'makida@10academy.org'}}}}}\n",
      "All records are inserted\n"
     ]
    }
   ],
   "source": [
    "sip.insert_reviewers()"
   ]
  },
  {
   "attachments": {},
   "cell_type": "markdown",
   "metadata": {},
   "source": [
    "### If It is new instance create Staff group"
   ]
  },
  {
   "cell_type": "code",
   "execution_count": 20,
   "metadata": {},
   "outputs": [
    {
     "name": "stdout",
     "output_type": "stream",
     "text": [
      "/Users/mahlettaye/review\n",
      "{'data': {'createGroup': {'data': {'id': '1'}}}}\n"
     ]
    }
   ],
   "source": [
    "### !!!!!!!!Don't run as it is check for the default value!!!!!!!!!!!!!!!!\n",
    "sip.create_group_for_staff()"
   ]
  },
  {
   "attachments": {},
   "cell_type": "markdown",
   "metadata": {},
   "source": [
    "### Create Prefeerence "
   ]
  },
  {
   "cell_type": "code",
   "execution_count": 16,
   "metadata": {},
   "outputs": [
    {
     "name": "stdout",
     "output_type": "stream",
     "text": [
      "gdrive.py:__init__:99: get_auth(ssmkey=gspread/config, envvar=GSPREAD_CONFIG, fconfig=~/.env/gclass_credentials.json)\n",
      "reading auth from file: /var/folders/dp/57y4rbx55kxdswwsnmzgp_j40000gn/T/gclass_credentials.json ..\n",
      "****** using service account: ~/.env/gclass_credentials.json\n",
      "service account is being used without delegation..\n",
      "------------new_staff_16_04 df.shape=(4, 2)----\n",
      "{'data': {'createPreference': {'data': {'id': '46'}}}}\n",
      "{'data': {'createPreference': {'data': {'id': '47'}}}}\n",
      "{'data': {'createPreference': {'data': {'id': '48'}}}}\n",
      "{'data': {'createPreference': {'data': {'id': '49'}}}}\n"
     ]
    }
   ],
   "source": [
    "sip.insert_user_preference()"
   ]
  },
  {
   "cell_type": "code",
   "execution_count": null,
   "metadata": {},
   "outputs": [],
   "source": [
    "#### While inserting Reviewer change the default value on user table role from trainee to staff"
   ]
  }
 ],
 "metadata": {
  "kernelspec": {
   "display_name": "pjmatch",
   "language": "python",
   "name": "python3"
  },
  "language_info": {
   "codemirror_mode": {
    "name": "ipython",
    "version": 3
   },
   "file_extension": ".py",
   "mimetype": "text/x-python",
   "name": "python",
   "nbconvert_exporter": "python",
   "pygments_lexer": "ipython3",
   "version": "3.9.15"
  },
  "orig_nbformat": 4,
  "vscode": {
   "interpreter": {
    "hash": "366dab72018b3fdb221843b047f27bd0add7ca741825c738abe034e80706e9b2"
   }
  }
 },
 "nbformat": 4,
 "nbformat_minor": 2
}
