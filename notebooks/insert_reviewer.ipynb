{
 "cells": [
  {
   "cell_type": "code",
   "execution_count": 1,
   "metadata": {},
   "outputs": [],
   "source": [
    "%load_ext autoreload\n",
    "%autoreload 2"
   ]
  },
  {
   "cell_type": "code",
   "execution_count": 2,
   "metadata": {},
   "outputs": [
    {
     "name": "stdout",
     "output_type": "stream",
     "text": [
      "/Users/mahlettaye/review\n"
     ]
    }
   ],
   "source": [
    "import os, sys\n",
    "cpath = os.path.abspath('../')\n",
    "print(cpath)\n",
    "if cpath not in sys.path:\n",
    "    sys.path.insert(0, cpath)\n",
    "os.environ[\"STRAPI_STAGE\"] = \"u2jcms\""
   ]
  },
  {
   "attachments": {},
   "cell_type": "markdown",
   "metadata": {},
   "source": [
    "### For new batch like u2j\n",
    "- Create batch\n",
    "- Create user and allUesr for staff  \n",
    "- Create reviewer \n",
    "- Create group \n",
    "- create preference "
   ]
  },
  {
   "cell_type": "code",
   "execution_count": 4,
   "metadata": {},
   "outputs": [],
   "source": [
    "from review_scripts.staff_information_processor import StaffInformationProcessor\n",
    "from review_scripts.strapi_methods import StrapiMethods \n",
    "from review_scripts.strapi_graphql import StrapiGraphql\n",
    "from review_scripts.communication_manager import CommunicationManager\n",
    "### Load params \n",
    "from run_configs import u2j_staff_config"
   ]
  },
  {
   "cell_type": "code",
   "execution_count": 9,
   "metadata": {},
   "outputs": [
    {
     "name": "stdout",
     "output_type": "stream",
     "text": [
      "StrapiGraphql run_stage: u2jcms\n",
      "strapi_graphql.py:__init__:35: get_auth(ssmkey=U2J_PROD_STRAPI_TOKEN, envvar=STRAPI_TOKEN, fconfig=/var/folders/dp/57y4rbx55kxdswwsnmzgp_j40000gn/T/u2jcms.json)\n",
      "Getting tenx/env/vars from existing file /var/folders/dp/57y4rbx55kxdswwsnmzgp_j40000gn/T/tenx_env_vars.json..\n",
      "strapi_methods.py:__init__:30: get_auth(ssmkey=U2J_PROD_STRAPI_TOKEN, envvar=STRAPI_TOKEN, fconfig=/var/folders/dp/57y4rbx55kxdswwsnmzgp_j40000gn/T/u2jcms.json)\n",
      "Getting tenx/env/vars from existing file /var/folders/dp/57y4rbx55kxdswwsnmzgp_j40000gn/T/tenx_env_vars.json..\n",
      "StrapiGraphql run_stage: u2jcms\n",
      "strapi_graphql.py:__init__:35: get_auth(ssmkey=U2J_PROD_STRAPI_TOKEN, envvar=STRAPI_TOKEN, fconfig=/var/folders/dp/57y4rbx55kxdswwsnmzgp_j40000gn/T/u2jcms.json)\n",
      "Getting tenx/env/vars from existing file /var/folders/dp/57y4rbx55kxdswwsnmzgp_j40000gn/T/tenx_env_vars.json..\n"
     ]
    }
   ],
   "source": [
    "sg = StrapiGraphql(run_stage=u2j_staff_config.run_stage)\n",
    "sm = StrapiMethods(run_stage=u2j_staff_config.run_stage)\n",
    "cm = CommunicationManager()\n",
    "sip = StaffInformationProcessor()"
   ]
  },
  {
   "attachments": {},
   "cell_type": "markdown",
   "metadata": {},
   "source": [
    "### To create new batch"
   ]
  },
  {
   "cell_type": "code",
   "execution_count": 10,
   "metadata": {},
   "outputs": [
    {
     "data": {
      "text/plain": [
       "{'data': {'createBatch': {'data': {'id': '1'}}}}"
      ]
     },
     "execution_count": 10,
     "metadata": {},
     "output_type": "execute_result"
    }
   ],
   "source": [
    "sip.create_new_batch()"
   ]
  },
  {
   "attachments": {},
   "cell_type": "markdown",
   "metadata": {},
   "source": [
    "### Insert batch specific reviewer to user, all_user, and reviewer tables"
   ]
  },
  {
   "cell_type": "code",
   "execution_count": 11,
   "metadata": {},
   "outputs": [
    {
     "name": "stdout",
     "output_type": "stream",
     "text": [
      "gdrive.py:__init__:99: get_auth(ssmkey=gspread/config, envvar=GSPREAD_CONFIG, fconfig=~/.env/gclass_credentials.json)\n",
      "reading auth from file: /var/folders/dp/57y4rbx55kxdswwsnmzgp_j40000gn/T/gclass_credentials.json ..\n",
      "****** using service account: ~/.env/gclass_credentials.json\n",
      "service account is being used without delegation..\n",
      "------------old_staff df.shape=(22, 2)----\n"
     ]
    }
   ],
   "source": [
    "ddf =  sip.get_staff_data()"
   ]
  },
  {
   "cell_type": "code",
   "execution_count": 12,
   "metadata": {},
   "outputs": [
    {
     "data": {
      "text/html": [
       "<div>\n",
       "<style scoped>\n",
       "    .dataframe tbody tr th:only-of-type {\n",
       "        vertical-align: middle;\n",
       "    }\n",
       "\n",
       "    .dataframe tbody tr th {\n",
       "        vertical-align: top;\n",
       "    }\n",
       "\n",
       "    .dataframe thead th {\n",
       "        text-align: right;\n",
       "    }\n",
       "</style>\n",
       "<table border=\"1\" class=\"dataframe\">\n",
       "  <thead>\n",
       "    <tr style=\"text-align: right;\">\n",
       "      <th></th>\n",
       "      <th>Full Name</th>\n",
       "      <th>Email</th>\n",
       "    </tr>\n",
       "  </thead>\n",
       "  <tbody>\n",
       "    <tr>\n",
       "      <th>1</th>\n",
       "      <td>Emtinan Salaheldin</td>\n",
       "      <td>emtinan@10academy.org</td>\n",
       "    </tr>\n",
       "    <tr>\n",
       "      <th>2</th>\n",
       "      <td>Rehmet Yeshanew</td>\n",
       "      <td>ryfgmz87@gmail.com</td>\n",
       "    </tr>\n",
       "    <tr>\n",
       "      <th>3</th>\n",
       "      <td>Pascaline Iyodusenga</td>\n",
       "      <td>pascaline@10academy.org</td>\n",
       "    </tr>\n",
       "    <tr>\n",
       "      <th>4</th>\n",
       "      <td>Abel Mitiku Getnet</td>\n",
       "      <td>abel@10academy.org</td>\n",
       "    </tr>\n",
       "    <tr>\n",
       "      <th>5</th>\n",
       "      <td>Guday Berhanu Ejigu</td>\n",
       "      <td>guday@10academy.org</td>\n",
       "    </tr>\n",
       "    <tr>\n",
       "      <th>6</th>\n",
       "      <td>Rodas Atenafu Bayable</td>\n",
       "      <td>rodas@10academy.org</td>\n",
       "    </tr>\n",
       "    <tr>\n",
       "      <th>7</th>\n",
       "      <td>Ekram Kumdin</td>\n",
       "      <td>ekram@10academy.org</td>\n",
       "    </tr>\n",
       "    <tr>\n",
       "      <th>8</th>\n",
       "      <td>Miliyon Ayalew</td>\n",
       "      <td>miliyon@10academy.org</td>\n",
       "    </tr>\n",
       "    <tr>\n",
       "      <th>9</th>\n",
       "      <td>Natnael Melese</td>\n",
       "      <td>natnael@10academy.org</td>\n",
       "    </tr>\n",
       "    <tr>\n",
       "      <th>10</th>\n",
       "      <td>Oluwatosin Maryam</td>\n",
       "      <td>maryam@10academy.org</td>\n",
       "    </tr>\n",
       "    <tr>\n",
       "      <th>11</th>\n",
       "      <td>Margaret Chepkirui</td>\n",
       "      <td>margaret@10academy.org</td>\n",
       "    </tr>\n",
       "    <tr>\n",
       "      <th>12</th>\n",
       "      <td>Belay Birhanu</td>\n",
       "      <td>belay@10academy.org</td>\n",
       "    </tr>\n",
       "    <tr>\n",
       "      <th>13</th>\n",
       "      <td>Fikerte Alemayehu</td>\n",
       "      <td>fikerte@10academy.org</td>\n",
       "    </tr>\n",
       "    <tr>\n",
       "      <th>14</th>\n",
       "      <td>Yabebal Fantaye</td>\n",
       "      <td>yabebal@10academy.org</td>\n",
       "    </tr>\n",
       "    <tr>\n",
       "      <th>15</th>\n",
       "      <td>Bereket Kibru</td>\n",
       "      <td>bereket@10academy.org</td>\n",
       "    </tr>\n",
       "    <tr>\n",
       "      <th>16</th>\n",
       "      <td>Mahlet Taye</td>\n",
       "      <td>mahlet@10academy.org</td>\n",
       "    </tr>\n",
       "    <tr>\n",
       "      <th>17</th>\n",
       "      <td>Arun sharma</td>\n",
       "      <td>arun@10academy.org</td>\n",
       "    </tr>\n",
       "    <tr>\n",
       "      <th>18</th>\n",
       "      <td>Emilien A.Hirwa</td>\n",
       "      <td>emilien@10academy.org</td>\n",
       "    </tr>\n",
       "    <tr>\n",
       "      <th>19</th>\n",
       "      <td>Semere Seifu</td>\n",
       "      <td>semere@10academy.org</td>\n",
       "    </tr>\n",
       "    <tr>\n",
       "      <th>20</th>\n",
       "      <td>Tins Tsegahun</td>\n",
       "      <td>tins@10academy.org</td>\n",
       "    </tr>\n",
       "    <tr>\n",
       "      <th>21</th>\n",
       "      <td>Tirhas Geberemariam</td>\n",
       "      <td>tirhas@10academy.org</td>\n",
       "    </tr>\n",
       "    <tr>\n",
       "      <th>22</th>\n",
       "      <td>Zaid Hailemariam</td>\n",
       "      <td>zaid@10academy.org</td>\n",
       "    </tr>\n",
       "  </tbody>\n",
       "</table>\n",
       "</div>"
      ],
      "text/plain": [
       "                Full Name                    Email\n",
       "1      Emtinan Salaheldin    emtinan@10academy.org\n",
       "2         Rehmet Yeshanew       ryfgmz87@gmail.com\n",
       "3    Pascaline Iyodusenga  pascaline@10academy.org\n",
       "4      Abel Mitiku Getnet       abel@10academy.org\n",
       "5     Guday Berhanu Ejigu      guday@10academy.org\n",
       "6   Rodas Atenafu Bayable      rodas@10academy.org\n",
       "7            Ekram Kumdin      ekram@10academy.org\n",
       "8          Miliyon Ayalew    miliyon@10academy.org\n",
       "9          Natnael Melese    natnael@10academy.org\n",
       "10      Oluwatosin Maryam     maryam@10academy.org\n",
       "11     Margaret Chepkirui   margaret@10academy.org\n",
       "12          Belay Birhanu      belay@10academy.org\n",
       "13      Fikerte Alemayehu    fikerte@10academy.org\n",
       "14        Yabebal Fantaye    yabebal@10academy.org\n",
       "15          Bereket Kibru    bereket@10academy.org\n",
       "16            Mahlet Taye     mahlet@10academy.org\n",
       "17            Arun sharma       arun@10academy.org\n",
       "18        Emilien A.Hirwa    emilien@10academy.org\n",
       "19           Semere Seifu     semere@10academy.org\n",
       "20          Tins Tsegahun       tins@10academy.org\n",
       "21    Tirhas Geberemariam     tirhas@10academy.org\n",
       "22       Zaid Hailemariam       zaid@10academy.org"
      ]
     },
     "execution_count": 12,
     "metadata": {},
     "output_type": "execute_result"
    }
   ],
   "source": [
    "ddf"
   ]
  },
  {
   "cell_type": "code",
   "execution_count": 14,
   "metadata": {},
   "outputs": [
    {
     "name": "stdout",
     "output_type": "stream",
     "text": [
      "/Users/mahlettaye/review\n",
      "gdrive.py:__init__:99: get_auth(ssmkey=gspread/config, envvar=GSPREAD_CONFIG, fconfig=~/.env/gclass_credentials.json)\n",
      "reading auth from file: /var/folders/dp/57y4rbx55kxdswwsnmzgp_j40000gn/T/gclass_credentials.json ..\n",
      "****** using service account: ~/.env/gclass_credentials.json\n",
      "service account is being used without delegation..\n",
      "------------old_staff df.shape=(22, 2)----\n",
      "{'name': 'Emtinan Salaheldin', 'email': 'emtinan@10academy.org', 'role': 'staff', 'batch': 1, 'userId': '1'}\n",
      "{'data': {'createAllUser': {'data': {'id': '1'}}}}\n",
      "{'name': 'Rehmet Yeshanew', 'email': 'ryfgmz87@gmail.com', 'role': 'staff', 'batch': 1, 'userId': '2'}\n",
      "{'data': {'createAllUser': {'data': {'id': '2'}}}}\n",
      "{'name': 'Pascaline Iyodusenga', 'email': 'pascaline@10academy.org', 'role': 'staff', 'batch': 1, 'userId': '3'}\n",
      "{'data': {'createAllUser': {'data': {'id': '3'}}}}\n",
      "{'name': 'Abel Mitiku Getnet', 'email': 'abel@10academy.org', 'role': 'staff', 'batch': 1, 'userId': '4'}\n",
      "{'data': {'createAllUser': {'data': {'id': '4'}}}}\n",
      "{'name': 'Guday Berhanu Ejigu', 'email': 'guday@10academy.org', 'role': 'staff', 'batch': 1, 'userId': '5'}\n",
      "{'data': {'createAllUser': {'data': {'id': '5'}}}}\n",
      "{'name': 'Rodas Atenafu Bayable', 'email': 'rodas@10academy.org', 'role': 'staff', 'batch': 1, 'userId': '6'}\n",
      "{'data': {'createAllUser': {'data': {'id': '6'}}}}\n",
      "{'name': 'Ekram Kumdin', 'email': 'ekram@10academy.org', 'role': 'staff', 'batch': 1, 'userId': '7'}\n",
      "{'data': {'createAllUser': {'data': {'id': '7'}}}}\n",
      "{'name': 'Miliyon Ayalew', 'email': 'miliyon@10academy.org', 'role': 'staff', 'batch': 1, 'userId': '8'}\n",
      "{'data': {'createAllUser': {'data': {'id': '8'}}}}\n",
      "{'name': 'Natnael Melese', 'email': 'natnael@10academy.org', 'role': 'staff', 'batch': 1, 'userId': '9'}\n",
      "{'data': {'createAllUser': {'data': {'id': '9'}}}}\n",
      "{'name': 'Oluwatosin Maryam', 'email': 'maryam@10academy.org', 'role': 'staff', 'batch': 1, 'userId': '10'}\n",
      "{'data': {'createAllUser': {'data': {'id': '10'}}}}\n",
      "{'name': 'Margaret Chepkirui', 'email': 'margaret@10academy.org', 'role': 'staff', 'batch': 1, 'userId': '11'}\n",
      "{'data': {'createAllUser': {'data': {'id': '11'}}}}\n",
      "{'name': 'Belay Birhanu', 'email': 'belay@10academy.org', 'role': 'staff', 'batch': 1, 'userId': '12'}\n",
      "{'data': {'createAllUser': {'data': {'id': '12'}}}}\n",
      "{'name': 'Fikerte Alemayehu', 'email': 'fikerte@10academy.org', 'role': 'staff', 'batch': 1, 'userId': '13'}\n",
      "{'data': {'createAllUser': {'data': {'id': '13'}}}}\n",
      "{'name': 'Yabebal Fantaye', 'email': 'yabebal@10academy.org', 'role': 'staff', 'batch': 1, 'userId': '14'}\n",
      "{'data': {'createAllUser': {'data': {'id': '14'}}}}\n",
      "{'name': 'Bereket Kibru', 'email': 'bereket@10academy.org', 'role': 'staff', 'batch': 1, 'userId': '15'}\n",
      "{'data': {'createAllUser': {'data': {'id': '15'}}}}\n",
      "{'name': 'Mahlet Taye', 'email': 'mahlet@10academy.org', 'role': 'staff', 'batch': 1, 'userId': '16'}\n",
      "{'data': {'createAllUser': {'data': {'id': '16'}}}}\n",
      "{'name': 'Arun sharma', 'email': 'arun@10academy.org', 'role': 'staff', 'batch': 1, 'userId': '17'}\n",
      "{'data': {'createAllUser': {'data': {'id': '17'}}}}\n",
      "{'name': 'Emilien A.Hirwa', 'email': 'emilien@10academy.org', 'role': 'staff', 'batch': 1, 'userId': '18'}\n",
      "{'data': {'createAllUser': {'data': {'id': '18'}}}}\n",
      "{'name': 'Semere Seifu', 'email': 'semere@10academy.org', 'role': 'staff', 'batch': 1, 'userId': '19'}\n",
      "{'data': {'createAllUser': {'data': {'id': '19'}}}}\n",
      "{'name': 'Tins Tsegahun', 'email': 'tins@10academy.org', 'role': 'staff', 'batch': 1, 'userId': '20'}\n",
      "{'data': {'createAllUser': {'data': {'id': '20'}}}}\n",
      "{'name': 'Tirhas Geberemariam', 'email': 'tirhas@10academy.org', 'role': 'staff', 'batch': 1, 'userId': '21'}\n",
      "{'data': {'createAllUser': {'data': {'id': '21'}}}}\n",
      "{'name': 'Zaid Hailemariam', 'email': 'zaid@10academy.org', 'role': 'staff', 'batch': 1, 'userId': '22'}\n",
      "{'data': {'createAllUser': {'data': {'id': '22'}}}}\n",
      "All records are inserted\n"
     ]
    }
   ],
   "source": [
    "sip.insert_staff_all_users()"
   ]
  },
  {
   "cell_type": "code",
   "execution_count": 16,
   "metadata": {},
   "outputs": [],
   "source": [
    "batch = sip.get_batch_id()\n",
    "        # df =self.select_users_from_allusers()"
   ]
  },
  {
   "cell_type": "code",
   "execution_count": 18,
   "metadata": {},
   "outputs": [
    {
     "data": {
      "text/html": [
       "<div>\n",
       "<style scoped>\n",
       "    .dataframe tbody tr th:only-of-type {\n",
       "        vertical-align: middle;\n",
       "    }\n",
       "\n",
       "    .dataframe tbody tr th {\n",
       "        vertical-align: top;\n",
       "    }\n",
       "\n",
       "    .dataframe thead th {\n",
       "        text-align: right;\n",
       "    }\n",
       "</style>\n",
       "<table border=\"1\" class=\"dataframe\">\n",
       "  <thead>\n",
       "    <tr style=\"text-align: right;\">\n",
       "      <th></th>\n",
       "      <th>all_user</th>\n",
       "      <th>Email</th>\n",
       "      <th>batches</th>\n",
       "    </tr>\n",
       "  </thead>\n",
       "  <tbody>\n",
       "    <tr>\n",
       "      <th>0</th>\n",
       "      <td>1</td>\n",
       "      <td>emtinan@10academy.org</td>\n",
       "      <td>1</td>\n",
       "    </tr>\n",
       "    <tr>\n",
       "      <th>1</th>\n",
       "      <td>2</td>\n",
       "      <td>ryfgmz87@gmail.com</td>\n",
       "      <td>1</td>\n",
       "    </tr>\n",
       "    <tr>\n",
       "      <th>2</th>\n",
       "      <td>3</td>\n",
       "      <td>pascaline@10academy.org</td>\n",
       "      <td>1</td>\n",
       "    </tr>\n",
       "    <tr>\n",
       "      <th>3</th>\n",
       "      <td>4</td>\n",
       "      <td>abel@10academy.org</td>\n",
       "      <td>1</td>\n",
       "    </tr>\n",
       "    <tr>\n",
       "      <th>4</th>\n",
       "      <td>5</td>\n",
       "      <td>guday@10academy.org</td>\n",
       "      <td>1</td>\n",
       "    </tr>\n",
       "    <tr>\n",
       "      <th>5</th>\n",
       "      <td>6</td>\n",
       "      <td>rodas@10academy.org</td>\n",
       "      <td>1</td>\n",
       "    </tr>\n",
       "    <tr>\n",
       "      <th>6</th>\n",
       "      <td>7</td>\n",
       "      <td>ekram@10academy.org</td>\n",
       "      <td>1</td>\n",
       "    </tr>\n",
       "    <tr>\n",
       "      <th>7</th>\n",
       "      <td>8</td>\n",
       "      <td>miliyon@10academy.org</td>\n",
       "      <td>1</td>\n",
       "    </tr>\n",
       "    <tr>\n",
       "      <th>8</th>\n",
       "      <td>9</td>\n",
       "      <td>natnael@10academy.org</td>\n",
       "      <td>1</td>\n",
       "    </tr>\n",
       "    <tr>\n",
       "      <th>9</th>\n",
       "      <td>10</td>\n",
       "      <td>maryam@10academy.org</td>\n",
       "      <td>1</td>\n",
       "    </tr>\n",
       "    <tr>\n",
       "      <th>10</th>\n",
       "      <td>11</td>\n",
       "      <td>margaret@10academy.org</td>\n",
       "      <td>1</td>\n",
       "    </tr>\n",
       "    <tr>\n",
       "      <th>11</th>\n",
       "      <td>12</td>\n",
       "      <td>belay@10academy.org</td>\n",
       "      <td>1</td>\n",
       "    </tr>\n",
       "    <tr>\n",
       "      <th>12</th>\n",
       "      <td>13</td>\n",
       "      <td>fikerte@10academy.org</td>\n",
       "      <td>1</td>\n",
       "    </tr>\n",
       "    <tr>\n",
       "      <th>13</th>\n",
       "      <td>14</td>\n",
       "      <td>yabebal@10academy.org</td>\n",
       "      <td>1</td>\n",
       "    </tr>\n",
       "    <tr>\n",
       "      <th>14</th>\n",
       "      <td>15</td>\n",
       "      <td>bereket@10academy.org</td>\n",
       "      <td>1</td>\n",
       "    </tr>\n",
       "    <tr>\n",
       "      <th>15</th>\n",
       "      <td>16</td>\n",
       "      <td>mahlet@10academy.org</td>\n",
       "      <td>1</td>\n",
       "    </tr>\n",
       "    <tr>\n",
       "      <th>16</th>\n",
       "      <td>17</td>\n",
       "      <td>arun@10academy.org</td>\n",
       "      <td>1</td>\n",
       "    </tr>\n",
       "    <tr>\n",
       "      <th>17</th>\n",
       "      <td>18</td>\n",
       "      <td>emilien@10academy.org</td>\n",
       "      <td>1</td>\n",
       "    </tr>\n",
       "    <tr>\n",
       "      <th>18</th>\n",
       "      <td>19</td>\n",
       "      <td>semere@10academy.org</td>\n",
       "      <td>1</td>\n",
       "    </tr>\n",
       "    <tr>\n",
       "      <th>19</th>\n",
       "      <td>20</td>\n",
       "      <td>tins@10academy.org</td>\n",
       "      <td>1</td>\n",
       "    </tr>\n",
       "    <tr>\n",
       "      <th>20</th>\n",
       "      <td>21</td>\n",
       "      <td>tirhas@10academy.org</td>\n",
       "      <td>1</td>\n",
       "    </tr>\n",
       "    <tr>\n",
       "      <th>21</th>\n",
       "      <td>22</td>\n",
       "      <td>zaid@10academy.org</td>\n",
       "      <td>1</td>\n",
       "    </tr>\n",
       "  </tbody>\n",
       "</table>\n",
       "</div>"
      ],
      "text/plain": [
       "   all_user                    Email  batches\n",
       "0         1    emtinan@10academy.org        1\n",
       "1         2       ryfgmz87@gmail.com        1\n",
       "2         3  pascaline@10academy.org        1\n",
       "3         4       abel@10academy.org        1\n",
       "4         5      guday@10academy.org        1\n",
       "5         6      rodas@10academy.org        1\n",
       "6         7      ekram@10academy.org        1\n",
       "7         8    miliyon@10academy.org        1\n",
       "8         9    natnael@10academy.org        1\n",
       "9        10     maryam@10academy.org        1\n",
       "10       11   margaret@10academy.org        1\n",
       "11       12      belay@10academy.org        1\n",
       "12       13    fikerte@10academy.org        1\n",
       "13       14    yabebal@10academy.org        1\n",
       "14       15    bereket@10academy.org        1\n",
       "15       16     mahlet@10academy.org        1\n",
       "16       17       arun@10academy.org        1\n",
       "17       18    emilien@10academy.org        1\n",
       "18       19     semere@10academy.org        1\n",
       "19       20       tins@10academy.org        1\n",
       "20       21     tirhas@10academy.org        1\n",
       "21       22       zaid@10academy.org        1"
      ]
     },
     "execution_count": 18,
     "metadata": {},
     "output_type": "execute_result"
    }
   ],
   "source": [
    "df =sip.select_users_from_allusers()\n",
    "df"
   ]
  },
  {
   "cell_type": "code",
   "execution_count": 19,
   "metadata": {},
   "outputs": [
    {
     "name": "stdout",
     "output_type": "stream",
     "text": [
      "{'data': {'createReviewer': {'data': {'id': '1', 'attributes': {'Email': 'emtinan@10academy.org'}}}}}\n",
      "{'data': {'createReviewer': {'data': {'id': '2', 'attributes': {'Email': 'ryfgmz87@gmail.com'}}}}}\n",
      "{'data': {'createReviewer': {'data': {'id': '3', 'attributes': {'Email': 'pascaline@10academy.org'}}}}}\n",
      "{'data': {'createReviewer': {'data': {'id': '4', 'attributes': {'Email': 'abel@10academy.org'}}}}}\n",
      "{'data': {'createReviewer': {'data': {'id': '5', 'attributes': {'Email': 'guday@10academy.org'}}}}}\n",
      "{'data': {'createReviewer': {'data': {'id': '6', 'attributes': {'Email': 'rodas@10academy.org'}}}}}\n",
      "{'data': {'createReviewer': {'data': {'id': '7', 'attributes': {'Email': 'ekram@10academy.org'}}}}}\n",
      "{'data': {'createReviewer': {'data': {'id': '8', 'attributes': {'Email': 'miliyon@10academy.org'}}}}}\n",
      "{'data': {'createReviewer': {'data': {'id': '9', 'attributes': {'Email': 'natnael@10academy.org'}}}}}\n",
      "{'data': {'createReviewer': {'data': {'id': '10', 'attributes': {'Email': 'maryam@10academy.org'}}}}}\n",
      "{'data': {'createReviewer': {'data': {'id': '11', 'attributes': {'Email': 'margaret@10academy.org'}}}}}\n",
      "{'data': {'createReviewer': {'data': {'id': '12', 'attributes': {'Email': 'belay@10academy.org'}}}}}\n",
      "{'data': {'createReviewer': {'data': {'id': '13', 'attributes': {'Email': 'fikerte@10academy.org'}}}}}\n",
      "{'data': {'createReviewer': {'data': {'id': '14', 'attributes': {'Email': 'yabebal@10academy.org'}}}}}\n",
      "{'data': {'createReviewer': {'data': {'id': '15', 'attributes': {'Email': 'bereket@10academy.org'}}}}}\n",
      "{'data': {'createReviewer': {'data': {'id': '16', 'attributes': {'Email': 'mahlet@10academy.org'}}}}}\n",
      "{'data': {'createReviewer': {'data': {'id': '17', 'attributes': {'Email': 'arun@10academy.org'}}}}}\n",
      "{'data': {'createReviewer': {'data': {'id': '18', 'attributes': {'Email': 'emilien@10academy.org'}}}}}\n",
      "{'data': {'createReviewer': {'data': {'id': '19', 'attributes': {'Email': 'semere@10academy.org'}}}}}\n",
      "{'data': {'createReviewer': {'data': {'id': '20', 'attributes': {'Email': 'tins@10academy.org'}}}}}\n",
      "{'data': {'createReviewer': {'data': {'id': '21', 'attributes': {'Email': 'tirhas@10academy.org'}}}}}\n",
      "{'data': {'createReviewer': {'data': {'id': '22', 'attributes': {'Email': 'zaid@10academy.org'}}}}}\n",
      "All records are inserted\n"
     ]
    }
   ],
   "source": [
    "sip.insert_reviewers()"
   ]
  },
  {
   "attachments": {},
   "cell_type": "markdown",
   "metadata": {},
   "source": [
    "### If It is new instance create Staff group"
   ]
  },
  {
   "cell_type": "code",
   "execution_count": 20,
   "metadata": {},
   "outputs": [
    {
     "name": "stdout",
     "output_type": "stream",
     "text": [
      "/Users/mahlettaye/review\n",
      "{'data': {'createGroup': {'data': {'id': '1'}}}}\n"
     ]
    }
   ],
   "source": [
    "### !!!!!!!!Don't run as it is check for the default value!!!!!!!!!!!!!!!!\n",
    "sip.create_group_for_staff()"
   ]
  },
  {
   "attachments": {},
   "cell_type": "markdown",
   "metadata": {},
   "source": [
    "### Create Prefeerence "
   ]
  },
  {
   "cell_type": "code",
   "execution_count": 53,
   "metadata": {},
   "outputs": [
    {
     "name": "stdout",
     "output_type": "stream",
     "text": [
      "/Users/mahlettaye/review\n",
      "gdrive.py:__init__:99: get_auth(ssmkey=gspread/config, envvar=GSPREAD_CONFIG, fconfig=~/.env/gclass_credentials.json)\n",
      "reading auth from file: /var/folders/dp/57y4rbx55kxdswwsnmzgp_j40000gn/T/gclass_credentials.json ..\n",
      "****** using service account: ~/.env/gclass_credentials.json\n",
      "service account is being used without delegation..\n",
      "------------old_staff df.shape=(22, 2)----\n",
      "{'data': {'createPreference': {'data': {'id': '2'}}}}\n",
      "{'data': {'createPreference': {'data': {'id': '3'}}}}\n",
      "{'data': {'createPreference': {'data': {'id': '4'}}}}\n",
      "{'data': {'createPreference': {'data': {'id': '5'}}}}\n",
      "{'data': {'createPreference': {'data': {'id': '6'}}}}\n",
      "{'data': {'createPreference': {'data': {'id': '7'}}}}\n",
      "{'data': {'createPreference': {'data': {'id': '8'}}}}\n",
      "{'data': {'createPreference': {'data': {'id': '9'}}}}\n",
      "{'data': {'createPreference': {'data': {'id': '10'}}}}\n",
      "{'data': {'createPreference': {'data': {'id': '11'}}}}\n",
      "{'data': {'createPreference': {'data': {'id': '12'}}}}\n",
      "{'data': {'createPreference': {'data': {'id': '13'}}}}\n",
      "{'data': {'createPreference': {'data': {'id': '14'}}}}\n",
      "{'data': {'createPreference': {'data': {'id': '15'}}}}\n",
      "{'data': {'createPreference': {'data': {'id': '16'}}}}\n",
      "{'data': {'createPreference': {'data': {'id': '17'}}}}\n",
      "{'data': {'createPreference': {'data': {'id': '18'}}}}\n",
      "{'data': {'createPreference': {'data': {'id': '19'}}}}\n",
      "{'data': {'createPreference': {'data': {'id': '20'}}}}\n",
      "{'data': {'createPreference': {'data': {'id': '21'}}}}\n",
      "{'data': {'createPreference': {'data': {'id': '22'}}}}\n"
     ]
    }
   ],
   "source": [
    "sip.insert_user_preference()"
   ]
  }
 ],
 "metadata": {
  "kernelspec": {
   "display_name": "pjmatch",
   "language": "python",
   "name": "python3"
  },
  "language_info": {
   "codemirror_mode": {
    "name": "ipython",
    "version": 3
   },
   "file_extension": ".py",
   "mimetype": "text/x-python",
   "name": "python",
   "nbconvert_exporter": "python",
   "pygments_lexer": "ipython3",
   "version": "3.9.15 (main, Nov 24 2022, 08:28:41) \n[Clang 14.0.6 ]"
  },
  "orig_nbformat": 4,
  "vscode": {
   "interpreter": {
    "hash": "366dab72018b3fdb221843b047f27bd0add7ca741825c738abe034e80706e9b2"
   }
  }
 },
 "nbformat": 4,
 "nbformat_minor": 2
}
